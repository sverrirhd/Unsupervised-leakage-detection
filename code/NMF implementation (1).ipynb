{
 "cells": [
  {
   "cell_type": "code",
   "execution_count": 1,
   "metadata": {},
   "outputs": [],
   "source": [
    "from tensorly.decomposition.candecomp_parafac import *\n",
    "# from tensorly.decomposition import *\n",
    "import pandas as pd\n",
    "import matplotlib.pyplot as plt\n",
    "import numpy as np\n",
    "from sklearn.decomposition import NMF,non_negative_factorization\n",
    "from tensorly.kruskal_tensor import *\n",
    "from glob import glob "
   ]
  },
  {
   "cell_type": "code",
   "execution_count": 2,
   "metadata": {},
   "outputs": [],
   "source": [
    "df_test = pd.read_csv('./PARAFAC implementation/Testing Data/K036VRÁS-RS211.csv',index_col=0)\n",
    "df_test.index = pd.DatetimeIndex(df_test.CTime)\n",
    "df_test = df_test.loc[df_test.OkPct >= 98]\n",
    "df_test = df_test.loc[df_test.Flag == 524480]\n"
   ]
  },
  {
   "cell_type": "code",
   "execution_count": 3,
   "metadata": {},
   "outputs": [],
   "source": [
    "x = df_test.loc[(df_test.CType == 4) & (df_test.Val > 0),:].Val\n",
    "x = x.resample('1h').mean()\n",
    "x = x.fillna(method='ffill')\n",
    "weekhour_index = x.index.weekday * 24 + x.index.hour\n",
    "first_0 = np.argwhere(weekhour_index == 0)[0,0]\n",
    "last_0 = np.argwhere(weekhour_index == 0)[-1,0]\n",
    "x = x.iloc[first_0:last_0]\n",
    "X = x.values.reshape((-1,7*24))"
   ]
  },
  {
   "cell_type": "code",
   "execution_count": 4,
   "metadata": {},
   "outputs": [],
   "source": [
    "X = X.reshape(-1,24*7)"
   ]
  },
  {
   "cell_type": "code",
   "execution_count": 5,
   "metadata": {},
   "outputs": [
    {
     "data": {
      "text/plain": [
       "(683, 168)"
      ]
     },
     "execution_count": 5,
     "metadata": {},
     "output_type": "execute_result"
    }
   ],
   "source": [
    "X.shape"
   ]
  },
  {
   "cell_type": "code",
   "execution_count": 6,
   "metadata": {},
   "outputs": [],
   "source": [
    "from scipy.optimize import nnls\n",
    "def predict_one_week(b,y):\n",
    "    # Solve the problem of xb = y\n",
    "    \n",
    "    x = nnls(b,y,)\n",
    "    return x[0]\n",
    "\n",
    "def get_strides_and_shift(array,window = 168):   \n",
    "    n = array.shape[0] - window + 1\n",
    "    arr_strided = np.lib.stride_tricks.as_strided(array, shape=[n, window], strides=2*array.strides)\n",
    "    shifts = np.arange(0,len(arr_strided))%168\n",
    "    return arr_strided,shifts"
   ]
  },
  {
   "cell_type": "code",
   "execution_count": null,
   "metadata": {},
   "outputs": [],
   "source": []
  },
  {
   "cell_type": "code",
   "execution_count": 7,
   "metadata": {},
   "outputs": [],
   "source": [
    "model_list = []"
   ]
  },
  {
   "cell_type": "code",
   "execution_count": 8,
   "metadata": {},
   "outputs": [
    {
     "name": "stderr",
     "output_type": "stream",
     "text": [
      "C:\\Users\\sverrirhd\\AppData\\Local\\Programs\\Python\\Python38\\lib\\site-packages\\sklearn\\utils\\deprecation.py:143: FutureWarning: The sklearn.utils.testing module is  deprecated in version 0.22 and will be removed in version 0.24. The corresponding classes / functions should instead be imported from sklearn.utils. Anything that cannot be imported from sklearn.utils is now part of the private API.\n",
      "  warnings.warn(message, FutureWarning)\n"
     ]
    }
   ],
   "source": [
    "from sklearn.utils.testing import ignore_warnings\n",
    "from sklearn.exceptions import ConvergenceWarning"
   ]
  },
  {
   "cell_type": "code",
   "execution_count": 9,
   "metadata": {},
   "outputs": [],
   "source": [
    "# NMF(n_components=3,init='random',max_iter = 10000,tol=1e-10,).fit_transform(X)"
   ]
  },
  {
   "cell_type": "code",
   "execution_count": null,
   "metadata": {},
   "outputs": [],
   "source": []
  },
  {
   "cell_type": "code",
   "execution_count": 10,
   "metadata": {},
   "outputs": [],
   "source": [
    "from sklearn.decomposition._cdnmf_fast import _update_cdnmf_fast\n",
    "from sklearn.utils.validation import  _deprecate_positional_args,check_is_fitted, check_non_negative\n",
    "from sklearn.utils import check_random_state, check_array\n",
    "import numbers\n",
    "\n",
    "from sklearn.utils.extmath import randomized_svd, safe_sparse_dot, squared_norm\n",
    "# from ..utils.validation import check_is_fitted, check_non_negative"
   ]
  },
  {
   "cell_type": "code",
   "execution_count": 11,
   "metadata": {
    "code_folding": [
     0
    ]
   },
   "outputs": [],
   "source": [
    "def _compute_regularization(alpha, l1_ratio, regularization):\n",
    "    \"\"\"Compute L1 and L2 regularization coefficients for W and H\"\"\"\n",
    "    alpha_H = 0.\n",
    "    alpha_W = 0.\n",
    "    if regularization in ('both', 'components'):\n",
    "        alpha_H = float(alpha)\n",
    "    if regularization in ('both', 'transformation'):\n",
    "        alpha_W = float(alpha)\n",
    "\n",
    "    l1_reg_W = alpha_W * l1_ratio\n",
    "    l1_reg_H = alpha_H * l1_ratio\n",
    "    l2_reg_W = alpha_W * (1. - l1_ratio)\n",
    "    l2_reg_H = alpha_H * (1. - l1_ratio)\n",
    "    return l1_reg_W, l1_reg_H, l2_reg_W, l2_reg_H"
   ]
  },
  {
   "cell_type": "code",
   "execution_count": 12,
   "metadata": {
    "code_folding": [
     0
    ]
   },
   "outputs": [],
   "source": [
    "def _check_init(A, shape, whom):\n",
    "    A = check_array(A)\n",
    "    if np.shape(A) != shape:\n",
    "        raise ValueError('Array with wrong shape passed to %s. Expected %s, '\n",
    "                         'but got %s ' % (whom, shape, np.shape(A)))\n",
    "    check_non_negative(A, whom)\n",
    "    if np.max(A) == 0:\n",
    "        raise ValueError('Array passed to %s is full of zeros.' % whom)"
   ]
  },
  {
   "cell_type": "code",
   "execution_count": 13,
   "metadata": {
    "code_folding": [
     0
    ]
   },
   "outputs": [],
   "source": [
    "def _check_string_param(solver, regularization, beta_loss, init):\n",
    "    allowed_solver = ('cd', 'mu')\n",
    "    if solver not in allowed_solver:\n",
    "        raise ValueError(\n",
    "            'Invalid solver parameter: got %r instead of one of %r' %\n",
    "            (solver, allowed_solver))\n",
    "\n",
    "    allowed_regularization = ('both', 'components', 'transformation', None)\n",
    "    if regularization not in allowed_regularization:\n",
    "        raise ValueError(\n",
    "            'Invalid regularization parameter: got %r instead of one of %r' %\n",
    "            (regularization, allowed_regularization))\n",
    "\n",
    "    # 'mu' is the only solver that handles other beta losses than 'frobenius'\n",
    "    if solver != 'mu' and beta_loss not in (2, 'frobenius'):\n",
    "        raise ValueError(\n",
    "            'Invalid beta_loss parameter: solver %r does not handle beta_loss'\n",
    "            ' = %r' % (solver, beta_loss))\n",
    "\n",
    "    if solver == 'mu' and init == 'nndsvd':\n",
    "        warnings.warn(\"The multiplicative update ('mu') solver cannot update \"\n",
    "                      \"zeros present in the initialization, and so leads to \"\n",
    "                      \"poorer results when used jointly with init='nndsvd'. \"\n",
    "                      \"You may try init='nndsvda' or init='nndsvdar' instead.\",\n",
    "                      UserWarning)"
   ]
  },
  {
   "cell_type": "code",
   "execution_count": 14,
   "metadata": {
    "code_folding": [
     9,
     148
    ]
   },
   "outputs": [],
   "source": [
    "def _fit_coordinate_descent(X, W, H, tol=1e-4, max_iter=200, l1_reg_W=0,\n",
    "                            l1_reg_H=0, l2_reg_W=0, l2_reg_H=0, update_H=True,\n",
    "                            verbose=0, shuffle=False, random_state=None):\n",
    "    \n",
    "    \"\"\"Compute Non-negative Matrix Factorization (NMF) with Coordinate Descent\n",
    "    The objective function is minimized with an alternating minimization of W\n",
    "    and H. Each minimization is done with a cyclic (up to a permutation of the\n",
    "    features) Coordinate Descent.\n",
    "    Parameters\n",
    "    ----------\n",
    "        X : array-like, shape (n_samples, n_features)\n",
    "            Constant matrix.\n",
    "        W : array-like, shape (n_samples, n_components)\n",
    "            Initial guess for the solution.\n",
    "        H : array-like, shape (n_components, n_features)\n",
    "            Initial guess for the solution.\n",
    "        tol : float, default: 1e-4\n",
    "            Tolerance of the stopping condition.\n",
    "        max_iter : integer, default: 200\n",
    "            Maximum number of iterations before timing out.\n",
    "        l1_reg_W : double, default: 0.\n",
    "            L1 regularization parameter for W.\n",
    "        l1_reg_H : double, default: 0.\n",
    "            L1 regularization parameter for H.\n",
    "        l2_reg_W : double, default: 0.\n",
    "            L2 regularization parameter for W.\n",
    "        l2_reg_H : double, default: 0.\n",
    "            L2 regularization parameter for H.\n",
    "        update_H : boolean, default: True\n",
    "            Set to True, both W and H will be estimated from initial guesses.\n",
    "            Set to False, only W will be estimated.\n",
    "        verbose : integer, default: 0\n",
    "            The verbosity level.\n",
    "        shuffle : boolean, default: False\n",
    "            If true, randomize the order of coordinates in the CD solver.\n",
    "        random_state : int, RandomState instance, default=None\n",
    "            Used to randomize the coordinates in the CD solver, when\n",
    "            ``shuffle`` is set to ``True``. Pass an int for reproducible\n",
    "            results across multiple function calls.\n",
    "            See :term:`Glossary <random_state>`.\n",
    "        Returns\n",
    "        -------\n",
    "        W : array-like, shape (n_samples, n_components)\n",
    "            Solution to the non-negative least squares problem.\n",
    "        H : array-like, shape (n_components, n_features)\n",
    "            Solution to the non-negative least squares problem.\n",
    "        n_iter : int\n",
    "            The number of iterations done by the algorithm.\n",
    "        References\n",
    "        ----------\n",
    "        Cichocki, Andrzej, and Phan, Anh-Huy. \"Fast local algorithms for\n",
    "        large scale nonnegative matrix and tensor factorizations.\"\n",
    "        IEICE transactions on fundamentals of electronics, communications and\n",
    "        computer sciences 92.3: 708-721, 2009.\n",
    "    \"\"\"\n",
    "    # so W and Ht are both in C order in memory\n",
    "    Ht = check_array(H.T, order='C')\n",
    "    X = check_array(X, accept_sparse='csr')\n",
    "\n",
    "    rng = check_random_state(random_state)\n",
    "    \n",
    "    for n_iter in range(1, max_iter + 1):\n",
    "        violation = 0.\n",
    "\n",
    "        # Update W\n",
    "        violation += _update_coordinate_descent(X, W, Ht, l1_reg_W,\n",
    "                                                l2_reg_W, shuffle, rng)\n",
    "        # Update H\n",
    "        if update_H:\n",
    "            violation += _update_coordinate_descent(X.T, Ht, W, l1_reg_H,\n",
    "                                                    l2_reg_H, shuffle, rng)\n",
    "            Ht[:,0] = np.ones((Ht.shape[0]))\n",
    "            Ht = Ht/np.linalg.norm(Ht,axis=0).reshape(1,-1)\n",
    "            \n",
    "        if n_iter == 1:\n",
    "            violation_init = violation\n",
    "\n",
    "        if violation_init == 0:\n",
    "            break\n",
    "\n",
    "        if verbose:\n",
    "            print(\"violation:\", violation / violation_init)\n",
    "\n",
    "        if violation / violation_init <= tol:\n",
    "            if verbose:\n",
    "                print(\"Converged at iteration\", n_iter + 1)\n",
    "            break\n",
    "    return W, Ht.T, n_iter\n",
    "\n",
    "\n",
    "def _update_coordinate_descent(X, W, Ht, l1_reg, l2_reg, shuffle,\n",
    "                               random_state):\n",
    "    \"\"\"Helper function for _fit_coordinate_descent\n",
    "    Update W to minimize the objective function, iterating once over all\n",
    "    coordinates. By symmetry, to update H, one can call\n",
    "    _update_coordinate_descent(X.T, Ht, W, ...)\n",
    "    \"\"\"\n",
    "    n_components = Ht.shape[1]\n",
    "\n",
    "    HHt = np.dot(Ht.T, Ht)\n",
    "    XHt = safe_sparse_dot(X, Ht)\n",
    "\n",
    "    # L2 regularization corresponds to increase of the diagonal of HHt\n",
    "    if l2_reg != 0.:\n",
    "        # adds l2_reg only on the diagonal\n",
    "        HHt.flat[::n_components + 1] += l2_reg\n",
    "    # L1 regularization corresponds to decrease of each element of XHt\n",
    "    if l1_reg != 0.:\n",
    "        XHt -= l1_reg\n",
    "\n",
    "    if shuffle:\n",
    "        permutation = random_state.permutation(n_components)\n",
    "    else:\n",
    "        permutation = np.arange(n_components)\n",
    "    # The following seems to be required on 64-bit Windows w/ Python 3.5.\n",
    "    permutation = np.asarray(permutation, dtype=np.intp)\n",
    "    return _update_cdnmf_fast(W, HHt, XHt, permutation)\n",
    "\n",
    "\n",
    "@_deprecate_positional_args\n",
    "def custom_NMF_update(X, W=None, H=None, n_components=None, *,\n",
    "                               init=None, update_H=True, solver='cd',\n",
    "                               beta_loss='frobenius', tol=1e-4,\n",
    "                               max_iter=200, alpha=0., l1_ratio=0.,\n",
    "                               regularization=None, random_state=None,\n",
    "                               verbose=0, shuffle=False):\n",
    "    \n",
    "    r\"\"\"Compute Non-negative Matrix Factorization (NMF)\n",
    "    Find two non-negative matrices (W, H) whose product approximates the non-\n",
    "    negative matrix X. This factorization can be used for example for\n",
    "    dimensionality reduction, source separation or topic extraction.\n",
    "    The objective function is::\n",
    "        0.5 * ||X - WH||_Fro^2\n",
    "        + alpha * l1_ratio * ||vec(W)||_1\n",
    "        + alpha * l1_ratio * ||vec(H)||_1\n",
    "        + 0.5 * alpha * (1 - l1_ratio) * ||W||_Fro^2\n",
    "        + 0.5 * alpha * (1 - l1_ratio) * ||H||_Fro^2\n",
    "    Where::\n",
    "        ||A||_Fro^2 = \\sum_{i,j} A_{ij}^2 (Frobenius norm)\n",
    "        ||vec(A)||_1 = \\sum_{i,j} abs(A_{ij}) (Elementwise L1 norm)\n",
    "    For multiplicative-update ('mu') solver, the Frobenius norm\n",
    "    (0.5 * ||X - WH||_Fro^2) can be changed into another beta-divergence loss,\n",
    "    by changing the beta_loss parameter.\n",
    "    The objective function is minimized with an alternating minimization of W\n",
    "    and H. If H is given and update_H=False, it solves for W only.\n",
    "    Parameters\n",
    "    ----------\n",
    "        X : array-like, shape (n_samples, n_features)\n",
    "            Constant matrix.\n",
    "        W : array-like, shape (n_samples, n_components)\n",
    "            If init='custom', it is used as initial guess for the solution.\n",
    "        H : array-like, shape (n_components, n_features)\n",
    "            If init='custom', it is used as initial guess for the solution.\n",
    "            If update_H=False, it is used as a constant, to solve for W only.\n",
    "        n_components : integer\n",
    "            Number of components, if n_components is not set all features\n",
    "            are kept.\n",
    "        init : None | 'random' | 'nndsvd' | 'nndsvda' | 'nndsvdar' | 'custom'\n",
    "            Method used to initialize the procedure.\n",
    "            Default: None.\n",
    "            Valid options:\n",
    "            - None: 'nndsvd' if n_components < n_features, otherwise 'random'.\n",
    "            - 'random': non-negative random matrices, scaled with:\n",
    "                sqrt(X.mean() / n_components)\n",
    "            - 'nndsvd': Nonnegative Double Singular Value Decomposition (NNDSVD)\n",
    "                initialization (better for sparseness)\n",
    "            - 'nndsvda': NNDSVD with zeros filled with the average of X\n",
    "                (better when sparsity is not desired)\n",
    "            - 'nndsvdar': NNDSVD with zeros filled with small random values\n",
    "                (generally faster, less accurate alternative to NNDSVDa\n",
    "                for when sparsity is not desired)\n",
    "            - 'custom': use custom matrices W and H\n",
    "            .. versionchanged:: 0.23\n",
    "                The default value of `init` changed from 'random' to None in 0.23.\n",
    "        update_H : boolean, default: True\n",
    "            Set to True, both W and H will be estimated from initial guesses.\n",
    "            Set to False, only W will be estimated.\n",
    "        solver : 'cd' | 'mu'\n",
    "            Numerical solver to use:\n",
    "            - 'cd' is a Coordinate Descent solver that uses Fast Hierarchical\n",
    "                Alternating Least Squares (Fast HALS).\n",
    "            - 'mu' is a Multiplicative Update solver.\n",
    "            .. versionadded:: 0.17\n",
    "               Coordinate Descent solver.\n",
    "            .. versionadded:: 0.19\n",
    "               Multiplicative Update solver.\n",
    "        beta_loss : float or string, default 'frobenius'\n",
    "            String must be in {'frobenius', 'kullback-leibler', 'itakura-saito'}.\n",
    "            Beta divergence to be minimized, measuring the distance between X\n",
    "            and the dot product WH. Note that values different from 'frobenius'\n",
    "            (or 2) and 'kullback-leibler' (or 1) lead to significantly slower\n",
    "            fits. Note that for beta_loss <= 0 (or 'itakura-saito'), the input\n",
    "            matrix X cannot contain zeros. Used only in 'mu' solver.\n",
    "            .. versionadded:: 0.19\n",
    "        tol : float, default: 1e-4\n",
    "            Tolerance of the stopping condition.\n",
    "        max_iter : integer, default: 200\n",
    "            Maximum number of iterations before timing out.\n",
    "        alpha : double, default: 0.\n",
    "            Constant that multiplies the regularization terms.\n",
    "        l1_ratio : double, default: 0.\n",
    "            The regularization mixing parameter, with 0 <= l1_ratio <= 1.\n",
    "            For l1_ratio = 0 the penalty is an elementwise L2 penalty\n",
    "            (aka Frobenius Norm).\n",
    "            For l1_ratio = 1 it is an elementwise L1 penalty.\n",
    "            For 0 < l1_ratio < 1, the penalty is a combination of L1 and L2.\n",
    "        regularization : 'both' | 'components' | 'transformation' | None\n",
    "            Select whether the regularization affects the components (H), the\n",
    "            transformation (W), both or none of them.\n",
    "        random_state : int, RandomState instance, default=None\n",
    "            Used for NMF initialisation (when ``init`` == 'nndsvdar' or\n",
    "            'random'), and in Coordinate Descent. Pass an int for reproducible\n",
    "            results across multiple function calls.\n",
    "            See :term:`Glossary <random_state>`.\n",
    "        verbose : integer, default: 0\n",
    "            The verbosity level.\n",
    "        shuffle : boolean, default: False\n",
    "            If true, randomize the order of coordinates in the CD solver.\n",
    "        Returns\n",
    "        -------\n",
    "        W : array-like, shape (n_samples, n_components)\n",
    "            Solution to the non-negative least squares problem.\n",
    "        H : array-like, shape (n_components, n_features)\n",
    "            Solution to the non-negative least squares problem.\n",
    "        n_iter : int\n",
    "            Actual number of iterations.\n",
    "        Examples\n",
    "        --------\n",
    "        >>> import numpy as np\n",
    "        >>> X = np.array([[1,1], [2, 1], [3, 1.2], [4, 1], [5, 0.8], [6, 1]])\n",
    "        >>> from sklearn.decomposition import non_negative_factorization\n",
    "        >>> W, H, n_iter = non_negative_factorization(X, n_components=2,\n",
    "        ... init='random', random_state=0)\n",
    "        References\n",
    "        ----------\n",
    "        Cichocki, Andrzej, and P. H. A. N. Anh-Huy. \"Fast local algorithms for\n",
    "        large scale nonnegative matrix and tensor factorizations.\"\n",
    "        IEICE transactions on fundamentals of electronics, communications and\n",
    "        computer sciences 92.3: 708-721, 2009.\n",
    "        Fevotte, C., & Idier, J. (2011). Algorithms for nonnegative matrix\n",
    "        factorization with the beta-divergence. Neural Computation, 23(9).\n",
    "    \"\"\"\n",
    "    X = check_array(X, accept_sparse=('csr', 'csc'),\n",
    "                    dtype=[np.float64, np.float32])\n",
    "    check_non_negative(X, \"NMF (input X)\")\n",
    "    beta_loss = _check_string_param(solver, regularization, beta_loss, init)\n",
    "\n",
    "    if X.min() == 0 and beta_loss <= 0:\n",
    "        raise ValueError(\"When beta_loss <= 0 and X contains zeros, \"\n",
    "                         \"the solver may diverge. Please add small values to \"\n",
    "                         \"X, or use a positive beta_loss.\")\n",
    "\n",
    "    n_samples, n_features = X.shape\n",
    "    if n_components is None:\n",
    "        n_components = n_features\n",
    "\n",
    "    if not isinstance(n_components, numbers.Integral) or n_components <= 0:\n",
    "        raise ValueError(\"Number of components must be a positive integer;\"\n",
    "                         \" got (n_components=%r)\" % n_components)\n",
    "    if not isinstance(max_iter, numbers.Integral) or max_iter < 0:\n",
    "        raise ValueError(\"Maximum number of iterations must be a positive \"\n",
    "                         \"integer; got (max_iter=%r)\" % max_iter)\n",
    "    if not isinstance(tol, numbers.Number) or tol < 0:\n",
    "        raise ValueError(\"Tolerance for stopping criteria must be \"\n",
    "                         \"positive; got (tol=%r)\" % tol)\n",
    "\n",
    "    # check W and H, or initialize them\n",
    "    if init == 'custom' and update_H:\n",
    "        _check_init(H, (n_components, n_features), \"NMF (input H)\")\n",
    "        _check_init(W, (n_samples, n_components), \"NMF (input W)\")\n",
    "        if H.dtype != X.dtype or W.dtype != X.dtype:\n",
    "            raise TypeError(\"H and W should have the same dtype as X. Got \"\n",
    "                            \"H.dtype = {} and W.dtype = {}.\"\n",
    "                            .format(H.dtype, W.dtype))\n",
    "    elif not update_H:\n",
    "        _check_init(H, (n_components, n_features), \"NMF (input H)\")\n",
    "        if H.dtype != X.dtype:\n",
    "            raise TypeError(\"H should have the same dtype as X. Got H.dtype = \"\n",
    "                            \"{}.\".format(H.dtype))\n",
    "        # 'mu' solver should not be initialized by zeros\n",
    "        if solver == 'mu':\n",
    "            avg = np.sqrt(X.mean() / n_components)\n",
    "            W = np.full((n_samples, n_components), avg, dtype=X.dtype)\n",
    "        else:\n",
    "            W = np.zeros((n_samples, n_components), dtype=X.dtype)\n",
    "    else:\n",
    "        W, H = _initialize_nmf(X, n_components, init=init,\n",
    "                               random_state=random_state)\n",
    "\n",
    "    l1_reg_W, l1_reg_H, l2_reg_W, l2_reg_H = _compute_regularization(\n",
    "        alpha, l1_ratio, regularization)\n",
    "\n",
    "    if solver == 'cd':\n",
    "        W, H, n_iter = _fit_coordinate_descent(X, W, H, tol, max_iter,\n",
    "                                               l1_reg_W, l1_reg_H,\n",
    "                                               l2_reg_W, l2_reg_H,\n",
    "                                               update_H=update_H,\n",
    "                                               verbose=verbose,\n",
    "                                               shuffle=shuffle,\n",
    "                                               random_state=random_state)\n",
    "        print(f'{n_iter} iterations before convergence')\n",
    "    elif solver == 'mu':\n",
    "        W, H, n_iter = _fit_multiplicative_update(X, W, H, beta_loss, max_iter,\n",
    "                                                  tol, l1_reg_W, l1_reg_H,\n",
    "                                                  l2_reg_W, l2_reg_H, update_H,\n",
    "                                                  verbose)\n",
    "\n",
    "    else:\n",
    "        raise ValueError(\"Invalid solver parameter '%s'.\" % solver)\n",
    "\n",
    "    if n_iter == max_iter and tol > 0:\n",
    "        warnings.warn(\"Maximum number of iterations %d reached. Increase it to\"\n",
    "                      \" improve convergence.\" % max_iter, ConvergenceWarning)\n",
    "\n",
    "    return W, H, n_iter"
   ]
  },
  {
   "cell_type": "code",
   "execution_count": 15,
   "metadata": {
    "code_folding": []
   },
   "outputs": [],
   "source": [
    "best_dict = {}\n",
    "from sklearn.base import BaseEstimator\n",
    "class NMF_custom(BaseEstimator):\n",
    "    \n",
    "    def __init__(self,\n",
    "                 X=None,\n",
    "                 n_components=3,\n",
    "                 max_iter=10000,\n",
    "                 tol = 1e-10,\n",
    "                 return_error = False,\n",
    "#                  beta_loss = 'kullback-leibler',\n",
    "#                  solver='mu',\n",
    "                 beta_loss = 'frobenius',\n",
    "                 solver='cd',\n",
    "                 alpha=0.0,                   \n",
    "                 l1_ratio=0.0,\n",
    "                 regularization='components',\n",
    "                 name = 'Custom NMF implementation with a single flat profile',\n",
    "                 errors = []):\n",
    "        \n",
    "        self.params = {\n",
    "            'n_components' : n_components,\n",
    "            'max_iter' : max_iter,\n",
    "            'tol' : tol,\n",
    "            'beta_loss' : beta_loss,\n",
    "            'solver' : solver,\n",
    "            'alpha' : alpha,\n",
    "            'l1_ratio' : l1_ratio,\n",
    "            'regularization' : regularization,\n",
    "            'name':'Custom NMF implementation with a single flat profile',\n",
    "            \n",
    "        }\n",
    "        \n",
    "        self.errors = []\n",
    "            \n",
    "    \n",
    "\n",
    "    @ignore_warnings(category=ConvergenceWarning)    \n",
    "    def compute_NMF_step(self,update_H=True,iters=1000):\n",
    "        self.W, self.H, _ = custom_NMF_update(X = self.X,\n",
    "                                             W = self.W,\n",
    "                                             H = self.H,\n",
    "                                             n_components=self.params['n_components'],\n",
    "                                             init='custom',\n",
    "                                             update_H=update_H,\n",
    "                                             solver=self.params['solver'],\n",
    "                                             beta_loss=self.params['beta_loss'],\n",
    "                                             tol=self.params['tol'],\n",
    "                                             max_iter=iters,\n",
    "                                             alpha=self.params['alpha'],\n",
    "                                             l1_ratio=self.params['l1_ratio'],\n",
    "                                             regularization=self.params['regularization'],\n",
    "                                             random_state=None,\n",
    "                                             verbose=0,\n",
    "                                             shuffle=False)\n",
    "        \n",
    "        \n",
    "    def get_params(self,deep=False):\n",
    "        return self.params\n",
    "    \n",
    "    def set_params(self, **parameters):\n",
    "        for parameter, value in parameters.items():\n",
    "            self.params[parameter] = value\n",
    "            \n",
    "        return self\n",
    "    \n",
    "    def fit(self,data,y=None):\n",
    "        \n",
    "        \n",
    "        self.X = data\n",
    "        self.p = self.X.shape[1]\n",
    "        \n",
    "        \n",
    "        self.n,self.p = self.X.shape\n",
    "        \n",
    "        self.H = np.abs(np.random.normal(0,1,(self.params['n_components'],168)))\n",
    "        self.W = np.abs(np.random.normal(0,1,(self.n, self.params['n_components'])))\n",
    "\n",
    "        \n",
    "\n",
    "        self.compute_NMF_step(update_H=True,iters=self.params['max_iter'])\n",
    "        self.components_ = self.H\n",
    "        \n",
    "        \n",
    "    def fit_transform(self,data,y=None):\n",
    "        self.fit(data)\n",
    "        return self.transform(data)\n",
    "        \n",
    "    \n",
    "    def estimate_abundances(self,data):\n",
    "        n_comp = self.params['n_components']\n",
    "        X_re_min = np.array([predict_one_week(self.H.T,y).reshape(1,n_comp) for y in data]).squeeze()\n",
    "        return X_re_min\n",
    "    \n",
    "    def transform(self,data):\n",
    "        n_comp = self.params['n_components']\n",
    "        X_re_min = np.array([predict_one_week(self.H.T,y).reshape(1,n_comp)@self.H for y in data]).squeeze()\n",
    "        return X_re_min\n",
    "    \n",
    "        \n",
    "    def decompose(self,data):\n",
    "        n_comp = self.params['n_components']\n",
    "        factors = []\n",
    "        for i in range(self.params['n_components']):\n",
    "            fac = np.array([predict_one_week(self.H.T,y).reshape(1,n_comp)[:,i]*self.H[i] for y in data]).ravel()\n",
    "            factors.append(fac)\n",
    "            \n",
    "        return np.array(factors).T\n",
    "    \n",
    "    def predict_leak(self,data):\n",
    "        n_comp = self.params['n_components']\n",
    "        leak_prediction = np.array([predict_one_week(self.H.T,y).reshape(1,n_comp)[:,0]*self.H[0] for y in data]).ravel()\n",
    "        return leak_prediction\n",
    "    \n",
    "    def predict(self,data):\n",
    "        return self.transform(data)\n",
    "    \n",
    "    def get_profiles(self,n):\n",
    "        address = './hyperparameter tuning results/profiles/'\n",
    "        files = glob(address + f'*_{n}.csv')\n",
    "        if n in best_dict.keys():\n",
    "            return best_dict[n]\n",
    "        \n",
    "        if len(files) == 0:\n",
    "            return np.abs(np.random.normal(0,1,(self.params['n_components'],168)))\n",
    "        \n",
    "        mses = []\n",
    "        for f in files:\n",
    "            mse = np.float(f[len(address):].split('_')[0])\n",
    "            mses.append(mse)\n",
    "        best_profiles = files[np.argmin(mses)]\n",
    "        profiles = pd.read_csv(best_profiles,index_col=0).values\n",
    "        best_dict[n] = profiles\n",
    "        return profiles\n",
    "    \n",
    "    def write_profiles(self,profiles,mse):\n",
    "        address = './hyperparameter tuning results/profiles/'\n",
    "        n = self.params['n_components']\n",
    "        files = glob(address + f'*_{n}.csv')\n",
    "        n_comps = profiles.shape[0]\n",
    "        if len(files) > 0:\n",
    "            mses = []\n",
    "            for f in files:\n",
    "                tmp_mse = np.float(f[len(address):].split('_')[0])\n",
    "                mses.append(tmp_mse)\n",
    "            if np.min(mses) > mse:\n",
    "                pd.DataFrame(profiles).to_csv(f'{address}{mse}_{n_comps}.csv')\n",
    "                best_dict[n_comps] = profiles\n",
    "        else:\n",
    "            best_dict[n_comps] = profiles\n",
    "            pd.DataFrame(profiles).to_csv(f'{address}{mse}_{n_comps}.csv')\n",
    "\n",
    "            \n",
    "    "
   ]
  },
  {
   "cell_type": "code",
   "execution_count": 16,
   "metadata": {
    "scrolled": true
   },
   "outputs": [
    {
     "name": "stdout",
     "output_type": "stream",
     "text": [
      "10000 iterations before convergence\n"
     ]
    }
   ],
   "source": [
    "nmf_custom = NMF_custom(X,max_iter=10000,tol=10e-12,n_components=3)\n",
    "nmf_custom.fit(X)\n",
    "# plt.plot(nmf_custom.errors)\n"
   ]
  },
  {
   "cell_type": "code",
   "execution_count": 20,
   "metadata": {},
   "outputs": [],
   "source": [
    "abundances = nmf_custom.decompose(X)"
   ]
  },
  {
   "cell_type": "code",
   "execution_count": 28,
   "metadata": {},
   "outputs": [
    {
     "data": {
      "image/png": "[encoded data removed]",
      "text/plain": [
       "<Figure size 432x288 with 1 Axes>"
      ]
     },
     "metadata": {
      "needs_background": "light"
     },
     "output_type": "display_data"
    },
    {
     "data": {
      "image/png": "[encoded data removed]",
      "text/plain": [
       "<Figure size 432x288 with 1 Axes>"
      ]
     },
     "metadata": {
      "needs_background": "light"
     },
     "output_type": "display_data"
    },
    {
     "data": {
      "image/png": "[encoded data removed]",
      "text/plain": [
       "<Figure size 432x288 with 1 Axes>"
      ]
     },
     "metadata": {
      "needs_background": "light"
     },
     "output_type": "display_data"
    }
   ],
   "source": [
    "plt.hist(abundances[:,0],bins = np.linspace(0,5,100));plt.show()\n",
    "plt.hist(abundances[:,1],bins = np.linspace(0,5,100));plt.show()\n",
    "plt.hist(abundances[:,2],bins = np.linspace(0,5,100));plt.show()"
   ]
  },
  {
   "cell_type": "code",
   "execution_count": null,
   "metadata": {},
   "outputs": [],
   "source": []
  },
  {
   "cell_type": "code",
   "execution_count": 17,
   "metadata": {},
   "outputs": [
    {
     "data": {
      "image/png": "[encoded data removed]",
      "text/plain": [
       "<Figure size 432x288 with 1 Axes>"
      ]
     },
     "metadata": {
      "needs_background": "light"
     },
     "output_type": "display_data"
    },
    {
     "data": {
      "image/png": "[encoded data removed]",
      "text/plain": [
       "<Figure size 432x288 with 1 Axes>"
      ]
     },
     "metadata": {
      "needs_background": "light"
     },
     "output_type": "display_data"
    }
   ],
   "source": [
    "X_re_built_in_transform = nmf_custom.transform(X)\n",
    "plt.plot(nmf_custom.decompose(X))\n",
    "plt.show()\n",
    "plt.plot(nmf_custom.components_.T)\n",
    "plt.show()"
   ]
  },
  {
   "cell_type": "code",
   "execution_count": null,
   "metadata": {},
   "outputs": [],
   "source": []
  },
  {
   "cell_type": "code",
   "execution_count": null,
   "metadata": {},
   "outputs": [],
   "source": [
    "from sklearn.utils.estimator_checks import check_estimator\n",
    "# check_estimator(NMF_custom)"
   ]
  },
  {
   "cell_type": "code",
   "execution_count": null,
   "metadata": {},
   "outputs": [],
   "source": [
    "W = nmf_custom.nmf.transform(X)\n",
    "H = nmf_custom.nmf.components_\n",
    "X_re = W@H\n",
    "\n",
    "X_re_min = np.array([predict_one_week(H.T,y).reshape(1,12)@H for y in X]).ravel()"
   ]
  },
  {
   "cell_type": "code",
   "execution_count": null,
   "metadata": {},
   "outputs": [],
   "source": [
    "MSE_re = np.mean((X.ravel() - X_re.ravel())**2)\n",
    "# MSE_re_inv = np.mean((X.ravel() - X_inv.ravel())**2)\n",
    "MSE_re_min = np.mean((X.ravel() - X_re_min.ravel())**2)"
   ]
  },
  {
   "cell_type": "code",
   "execution_count": null,
   "metadata": {},
   "outputs": [],
   "source": [
    "plt.figure(figsize=(16,5))\n",
    "plt.plot(X.ravel(),alpha=0.5)\n",
    "plt.plot(X_re.ravel(),alpha=.5)\n",
    "# plt.plot(X_inv.ravel(),alpha=.5)\n",
    "plt.plot(X_re_min.ravel(),alpha=.5)\n",
    "plt.legend(['original','WH','LstSq'])"
   ]
  },
  {
   "cell_type": "code",
   "execution_count": null,
   "metadata": {},
   "outputs": [],
   "source": [
    "print(MSE_re)\n",
    "# print(MSE_re_inv)\n",
    "print(MSE_re_min)"
   ]
  },
  {
   "cell_type": "code",
   "execution_count": null,
   "metadata": {},
   "outputs": [],
   "source": [
    "print(MSE_re)\n",
    "# print(MSE_re_inv)\n",
    "print(MSE_re_min)"
   ]
  },
  {
   "cell_type": "code",
   "execution_count": null,
   "metadata": {},
   "outputs": [],
   "source": [
    "from sklearn.model_selection import TimeSeriesSplit,GridSearchCV\n",
    "from sklearn.metrics import make_scorer,mean_squared_error\n",
    "neg_mean_squared_error_scorer = make_scorer(mean_squared_error,greater_is_better=False)\n"
   ]
  },
  {
   "cell_type": "code",
   "execution_count": null,
   "metadata": {},
   "outputs": [],
   "source": [
    "# nmf_tmp = NMF_custom(None,3,100,1e-10,False,'kullback-leibler','mu',0.0,0.0)\n",
    "# nmf_tmp.fit(X)\n",
    "# print(neg_mean_squared_error_scorer(nmf_tmp,X,X_re))\n",
    "\n",
    "# nmf_tmp = NMF_custom(None,3,100,1e-10,False,'kullback-leibler','mu',0.5,100)\n",
    "# nmf_tmp.fit(X)\n",
    "# print(neg_mean_squared_error_scorer(nmf_tmp,X,X_re))"
   ]
  },
  {
   "cell_type": "code",
   "execution_count": null,
   "metadata": {},
   "outputs": [],
   "source": [
    "n,p = X.shape\n",
    "n_train = n//2\n",
    "X_train,X_test = X[:n_train],X[n_train:]\n",
    "\n",
    "n_components = np.arange(4,10,1)\n",
    "alpha = np.linspace(0,30,11)\n",
    "l1_ratio = np.linspace(0,1,4)\n",
    "regularization = ['both', 'components']\n",
    "\n",
    "param_grid = {\n",
    "     'n_components':n_components,\n",
    "     'alpha':alpha,\n",
    "     'l1_ratio':l1_ratio,\n",
    "     'regularization':regularization,\n",
    "}\n",
    "\n",
    "splits = TimeSeriesSplit(max_train_size=None, n_splits=3)"
   ]
  },
  {
   "cell_type": "code",
   "execution_count": null,
   "metadata": {},
   "outputs": [],
   "source": [
    "# for i,j in splits.split(X):\n",
    "#     print(i)"
   ]
  },
  {
   "cell_type": "code",
   "execution_count": null,
   "metadata": {},
   "outputs": [],
   "source": [
    "param_grid"
   ]
  },
  {
   "cell_type": "code",
   "execution_count": null,
   "metadata": {},
   "outputs": [],
   "source": [
    "nmf_custom = NMF_custom(max_iter=1000,\n",
    "                        beta_loss = 'frobenius',\n",
    "                        solver='cd',)\n",
    "\n",
    "search = GridSearchCV(nmf_custom,\n",
    "                      param_grid,\n",
    "                      scoring=neg_mean_squared_error_scorer,\n",
    "                      n_jobs=-1,\n",
    "                      iid='deprecated',\n",
    "                      refit=True,\n",
    "                      cv=splits, \n",
    "                      verbose=3,\n",
    "                      pre_dispatch='2*n_jobs',\n",
    "                      error_score='raise',\n",
    "                      return_train_score=True)"
   ]
  },
  {
   "cell_type": "code",
   "execution_count": null,
   "metadata": {
    "scrolled": true
   },
   "outputs": [],
   "source": [
    "# search.fit(X,X)"
   ]
  },
  {
   "cell_type": "code",
   "execution_count": null,
   "metadata": {},
   "outputs": [],
   "source": [
    "search.cv_results_"
   ]
  },
  {
   "cell_type": "code",
   "execution_count": null,
   "metadata": {},
   "outputs": [],
   "source": [
    "# def save_results(cv_res):\n",
    "#     import datetime as dt\n",
    "#     fields = [x for x in cv_res.keys() if 'score' in x]\n",
    "#     data = np.array([cv_res[t] for t in fields])\n",
    "#     result_df = pd.DataFrame(data.T,index=cv_res['params'],columns=fields)\n",
    "#     time_now = dt.datetime.now()\n",
    "#     date_string = time_now.strftime(format='%Y_%m_%d_%H%M%S')\n",
    "#     result_df.to_csv(f'./hyperparameter tuning results/{date_string}.csv')\n",
    "\n",
    "# save_results(search.cv_results_)"
   ]
  },
  {
   "cell_type": "code",
   "execution_count": null,
   "metadata": {
    "scrolled": true
   },
   "outputs": [],
   "source": [
    "performance = search.cv_results_['mean_test_score']"
   ]
  },
  {
   "cell_type": "code",
   "execution_count": null,
   "metadata": {},
   "outputs": [],
   "source": [
    "np.max(performance)"
   ]
  },
  {
   "cell_type": "code",
   "execution_count": null,
   "metadata": {},
   "outputs": [],
   "source": [
    "search.best_params_"
   ]
  },
  {
   "cell_type": "code",
   "execution_count": null,
   "metadata": {},
   "outputs": [],
   "source": [
    "# search.b"
   ]
  },
  {
   "cell_type": "code",
   "execution_count": null,
   "metadata": {},
   "outputs": [],
   "source": [
    "performance_tensor = performance.reshape(tuple(len(tmp) for tmp in param_grid.values()))"
   ]
  },
  {
   "cell_type": "code",
   "execution_count": null,
   "metadata": {},
   "outputs": [],
   "source": [
    "tmp = [1,2,3]\n",
    "tmp.remove(1)\n",
    "tmp"
   ]
  },
  {
   "cell_type": "code",
   "execution_count": null,
   "metadata": {
    "scrolled": false
   },
   "outputs": [],
   "source": [
    "for i,param in enumerate(param_grid.keys()):\n",
    "    axes = list(np.arange(4))\n",
    "    axes.remove(i)\n",
    "    plt.plot(list(param_grid[param]),np.mean(performance_tensor,axis=tuple(axes)))\n",
    "    plt.xlabel(param)\n",
    "    plt.show()"
   ]
  },
  {
   "cell_type": "code",
   "execution_count": null,
   "metadata": {},
   "outputs": [],
   "source": [
    "search.best_params_"
   ]
  },
  {
   "cell_type": "code",
   "execution_count": null,
   "metadata": {},
   "outputs": [],
   "source": [
    "# nmf_custom = NMF_custom(X=None,\n",
    "#                         n_components=3,\n",
    "#                         max_iter=30000,\n",
    "#                         tol = 1e-20,\n",
    "#                         return_error = True,\n",
    "#                         beta_loss = 'frobenius',\n",
    "#                         solver='cd',\n",
    "#                         alpha=7.5,                   \n",
    "#                         l1_ratio=1,\n",
    "#                         regularization='components',\n",
    "#                         name = 'Custom NMF implementation with a single flat profile',\n",
    "#                         errors = []\n",
    "#                        )\n",
    "# nmf_custom.fit(X)"
   ]
  },
  {
   "cell_type": "code",
   "execution_count": null,
   "metadata": {
    "scrolled": true
   },
   "outputs": [],
   "source": [
    "nmf_custom = NMF_custom(X=None,\n",
    "                        n_components=12,\n",
    "                        max_iter=10000,\n",
    "                        tol = 1e-10,\n",
    "                        return_error = True,\n",
    "                        beta_loss = 'frobenius',\n",
    "                        solver='cd',\n",
    "                        alpha=10,                   \n",
    "                        l1_ratio=1,\n",
    "                        regularization='components',\n",
    "                        name = 'Custom NMF implementation with a single flat profile',\n",
    "                        errors = []\n",
    "                       )\n",
    "nmf_custom.fit(X)"
   ]
  },
  {
   "cell_type": "code",
   "execution_count": null,
   "metadata": {},
   "outputs": [],
   "source": [
    "# plt.plot(-np.diff(nmf_custom.errors))\n",
    "# plt.yscale('log')"
   ]
  },
  {
   "cell_type": "code",
   "execution_count": null,
   "metadata": {},
   "outputs": [],
   "source": [
    "compoenents = nmf_custom.nmf.components_"
   ]
  },
  {
   "cell_type": "code",
   "execution_count": null,
   "metadata": {},
   "outputs": [],
   "source": [
    "X_re_min = np.array([predict_one_week(compoenents.T,y).reshape(1,-1)@compoenents for y in X]).ravel()\n",
    "X_re_built_in = nmf_custom.transform(X)"
   ]
  },
  {
   "cell_type": "code",
   "execution_count": null,
   "metadata": {},
   "outputs": [],
   "source": [
    "plt.plot(X.ravel(),alpha=0.5)\n",
    "plt.plot(X_re_built_in,alpha=0.5)\n",
    "plt.plot(X_re_min,alpha=0.5)"
   ]
  },
  {
   "cell_type": "code",
   "execution_count": null,
   "metadata": {
    "scrolled": true
   },
   "outputs": [],
   "source": [
    "residuals = X_re_min-X.ravel()\n",
    "plt.hist(residuals,bins=np.arange(-5,5,0.1))\n",
    "plt.show()"
   ]
  },
  {
   "cell_type": "code",
   "execution_count": null,
   "metadata": {},
   "outputs": [],
   "source": [
    "from scipy.stats import kurtosis\n",
    "kurtosis(residuals)"
   ]
  },
  {
   "cell_type": "code",
   "execution_count": null,
   "metadata": {},
   "outputs": [],
   "source": [
    "print('mse:',np.mean(residuals**2))\n",
    "print('mae:',np.mean(np.abs(residuals)))"
   ]
  },
  {
   "cell_type": "code",
   "execution_count": null,
   "metadata": {},
   "outputs": [],
   "source": [
    "print('mse:',np.mean(residuals**2))\n",
    "print('mae:',np.mean(np.abs(residuals)))"
   ]
  },
  {
   "cell_type": "markdown",
   "metadata": {},
   "source": []
  },
  {
   "cell_type": "code",
   "execution_count": null,
   "metadata": {},
   "outputs": [],
   "source": []
  },
  {
   "cell_type": "code",
   "execution_count": null,
   "metadata": {},
   "outputs": [],
   "source": []
  },
  {
   "cell_type": "code",
   "execution_count": null,
   "metadata": {},
   "outputs": [],
   "source": []
  },
  {
   "cell_type": "code",
   "execution_count": null,
   "metadata": {},
   "outputs": [],
   "source": []
  },
  {
   "cell_type": "code",
   "execution_count": null,
   "metadata": {
    "code_folding": []
   },
   "outputs": [],
   "source": [
    "# df = pd.read_csv('./PARAFAC implementation/Testing data/combined_sensor_data_average_ok_values.csv')"
   ]
  },
  {
   "cell_type": "code",
   "execution_count": null,
   "metadata": {
    "code_folding": [
     0
    ]
   },
   "outputs": [],
   "source": [
    "# sensors_of_interst = ['K-RVK-003-RS211',\n",
    "#                       'K-RVK-013-RS211',\n",
    "#                       'K-RVK-020-RS211',\n",
    "#                       'K-RVK-019-RS221',\n",
    "#                       'K-RVK-035-RS211',\n",
    "#                       'K-RVK-036-RS211',\n",
    "#                       'K-RVK-038-RS211',\n",
    "#                       'K-RVK-040-RS211',\n",
    "#                       'K-RVK-040-RS221',\n",
    "#                       'K-RVK-040-RS241',\n",
    "#                       'K-RVK-044-RS241',\n",
    "#                       'K-RVK-045-RS211',\n",
    "#                       'K-RVK-045-RS221',\n",
    "#                       'K-RVK-046-RS221',\n",
    "#                       'K-RVK-049-RS221',\n",
    "#                       'K-RVK-053-RS211',\n",
    "#                       'K-RVK-055-RS231']\n",
    "    "
   ]
  },
  {
   "cell_type": "code",
   "execution_count": null,
   "metadata": {
    "code_folding": [
     0
    ],
    "scrolled": true
   },
   "outputs": [],
   "source": [
    "# clean_sensor_dict = {}\n",
    "# problem_sensor_dict = {}\n",
    "# for sensor in sensors_of_interst:    \n",
    "#     subset = df.loc[df.Name == sensor].dropna()\n",
    "#     subset.index = pd.DatetimeIndex(subset.CTime)\n",
    "#     subset = subset.loc[subset.Val > 0]\n",
    "#     std = subset.Val.std()\n",
    "#     mean = subset.Val.mean()\n",
    "#     subset = subset.loc[(subset.Val < mean+4*std) &\n",
    "#                         (subset.Val > mean-4*std)]\n",
    "#     print(len(subset))\n",
    "#     print(mean,std)\n",
    "#     try:\n",
    "#         x = subset.Val\n",
    "#         x = x.resample('1h').mean()\n",
    "#         x = x.fillna(method='ffill',limit = 5)\n",
    "#         weekhour_index = x.index.weekday * 24 + x.index.hour\n",
    "#         first_0 = np.argwhere(weekhour_index == 0)[0,0]\n",
    "#         last_0 = np.argwhere(weekhour_index == 0)[-1,0]\n",
    "#         x = x.iloc[first_0:last_0]\n",
    "#         X = x.values.reshape((-1,7,24))\n",
    "        \n",
    "#         clean_sensor_dict[sensor] = X\n",
    "#     except:\n",
    "#         print(sensor)\n",
    "#         print(subset)\n",
    "#         problem_sensor_dict[sensor] = df.loc[df.Name == sensor].dropna()"
   ]
  },
  {
   "cell_type": "code",
   "execution_count": null,
   "metadata": {},
   "outputs": [],
   "source": []
  },
  {
   "cell_type": "code",
   "execution_count": null,
   "metadata": {},
   "outputs": [],
   "source": []
  },
  {
   "cell_type": "code",
   "execution_count": null,
   "metadata": {},
   "outputs": [],
   "source": [
    "component_abundances.sum(0)"
   ]
  },
  {
   "cell_type": "code",
   "execution_count": null,
   "metadata": {},
   "outputs": [],
   "source": []
  },
  {
   "cell_type": "code",
   "execution_count": null,
   "metadata": {},
   "outputs": [],
   "source": [
    "W"
   ]
  },
  {
   "cell_type": "code",
   "execution_count": 117,
   "metadata": {},
   "outputs": [
    {
     "name": "stdout",
     "output_type": "stream",
     "text": [
      "10000 iterations before convergence\n"
     ]
    }
   ],
   "source": [
    "nmf_custom = NMF_custom(3)\n",
    "nmf_custom.fit(X)"
   ]
  },
  {
   "cell_type": "code",
   "execution_count": 118,
   "metadata": {},
   "outputs": [],
   "source": [
    "W = nmf_custom.estimate_abundances(X)\n",
    "H = nmf_custom.components_"
   ]
  },
  {
   "cell_type": "code",
   "execution_count": null,
   "metadata": {},
   "outputs": [],
   "source": []
  },
  {
   "cell_type": "code",
   "execution_count": null,
   "metadata": {},
   "outputs": [],
   "source": [
    "leak_dict = {\n",
    "    dt.date(2019,8, 1):['Fáfnisnes 24','Meðal'],\n",
    "    dt.date(2019,6, 4):['Bauganes 3','Lítill'],\n",
    "    dt.date(2016,7,14):['Bauganes 19','Lítill'],              \n",
    "    dt.date(2011,2,28):['Skildinganes 4','Meðal'],\n",
    "    dt.date(2013,8,24):['Skildinganes 19','Meðal'],\n",
    "    dt.date(2014,1,30):['Skildinganes 33','Meðal'],\n",
    "}\n",
    "leak_dict_2 = {\n",
    "    # More leaks\n",
    "    dt.date(2010,7,1): ['',''],\n",
    "    dt.date(2010,6,7): ['',''],\n",
    "    dt.date(2019,7,1): ['',''],\n",
    "    dt.date(2010,5,27):['',''],\n",
    "    dt.date(2017,10,6):['',''],\n",
    "    dt.date(2007,6,11):['',''],\n",
    "    dt.date(2011,2,24):['',''],\n",
    "    dt.date(2013,6,24):['',''],\n",
    "    dt.date(2014,1,17):[],\n",
    "    dt.date(2020,1,21):[],\n",
    "    dt.date(2020,1,21):[],\n",
    "#     dt.date(2014,,17):[]\n",
    "}\n"
   ]
  }
 ],
 "metadata": {
  "kernelspec": {
   "display_name": "Python 3",
   "language": "python",
   "name": "python3"
  },
  "language_info": {
   "codemirror_mode": {
    "name": "ipython",
    "version": 3
   },
   "file_extension": ".py",
   "mimetype": "text/x-python",
   "name": "python",
   "nbconvert_exporter": "python",
   "pygments_lexer": "ipython3",
   "version": "3.9.2"
  }
 },
 "nbformat": 4,
 "nbformat_minor": 2
}
