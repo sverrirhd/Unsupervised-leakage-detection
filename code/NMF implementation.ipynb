{
 "cells": [
  {
   "cell_type": "code",
   "execution_count": 1,
   "metadata": {},
   "outputs": [],
   "source": [
    "from tensorly.decomposition.candecomp_parafac import *\n",
    "# from tensorly.decomposition import *\n",
    "import pandas as pd\n",
    "import matplotlib.pyplot as plt\n",
    "import numpy as np\n",
    "from sklearn.decomposition import NMF,non_negative_factorization\n",
    "from tensorly.kruskal_tensor import *"
   ]
  },
  {
   "cell_type": "code",
   "execution_count": null,
   "metadata": {},
   "outputs": [],
   "source": []
  },
  {
   "cell_type": "code",
   "execution_count": 2,
   "metadata": {},
   "outputs": [],
   "source": [
    "df_test = pd.read_csv('./PARAFAC implementation/Testing Data/K036VRÁS-RS211.csv',index_col=0)\n",
    "df_test.index = pd.DatetimeIndex(df_test.CTime)\n",
    "df_test = df_test.loc[df_test.OkPct >= 98]\n",
    "df_test = df_test.loc[df_test.Flag == 524480]\n"
   ]
  },
  {
   "cell_type": "code",
   "execution_count": 3,
   "metadata": {},
   "outputs": [],
   "source": [
    "x = df_test.loc[(df_test.CType == 4) & (df_test.Val > 0),:].Val\n",
    "x = x.resample('1h').mean()\n",
    "x = x.fillna(method='ffill')\n",
    "weekhour_index = x.index.weekday * 24 + x.index.hour\n",
    "first_0 = np.argwhere(weekhour_index == 0)[0,0]\n",
    "last_0 = np.argwhere(weekhour_index == 0)[-1,0]\n",
    "x = x.iloc[first_0:last_0]\n",
    "X = x.values.reshape((-1,7,24))"
   ]
  },
  {
   "cell_type": "code",
   "execution_count": 4,
   "metadata": {},
   "outputs": [],
   "source": [
    "X = X.reshape(-1,24*7)"
   ]
  },
  {
   "cell_type": "code",
   "execution_count": 5,
   "metadata": {},
   "outputs": [
    {
     "data": {
      "text/plain": [
       "(683, 168)"
      ]
     },
     "execution_count": 5,
     "metadata": {},
     "output_type": "execute_result"
    }
   ],
   "source": [
    "X.shape"
   ]
  },
  {
   "cell_type": "code",
   "execution_count": 6,
   "metadata": {},
   "outputs": [],
   "source": [
    "from scipy.optimize import nnls\n",
    "def predict_one_week(b,y):\n",
    "    # Solve the problem of xb = y\n",
    "    \n",
    "    x = nnls(b,y,)\n",
    "    return x[0]\n",
    "\n",
    "def get_strides_and_shift(array,window = 168):   \n",
    "    n = array.shape[0] - window + 1\n",
    "    arr_strided = np.lib.stride_tricks.as_strided(array, shape=[n, window], strides=2*array.strides)\n",
    "    shifts = np.arange(0,len(arr_strided))%168\n",
    "    return arr_strided,shifts"
   ]
  },
  {
   "cell_type": "code",
   "execution_count": null,
   "metadata": {},
   "outputs": [],
   "source": []
  },
  {
   "cell_type": "code",
   "execution_count": 33,
   "metadata": {},
   "outputs": [],
   "source": [
    "model_list = []"
   ]
  },
  {
   "cell_type": "code",
   "execution_count": 8,
   "metadata": {},
   "outputs": [
    {
     "name": "stderr",
     "output_type": "stream",
     "text": [
      "C:\\Users\\Sverrir\\Anaconda3\\lib\\site-packages\\sklearn\\utils\\deprecation.py:143: FutureWarning: The sklearn.utils.testing module is  deprecated in version 0.22 and will be removed in version 0.24. The corresponding classes / functions should instead be imported from sklearn.utils. Anything that cannot be imported from sklearn.utils is now part of the private API.\n",
      "  warnings.warn(message, FutureWarning)\n"
     ]
    }
   ],
   "source": [
    "from sklearn.utils.testing import ignore_warnings\n",
    "from sklearn.exceptions import ConvergenceWarning\n",
    "\n",
    "\n",
    "\n",
    "# @ignore_warnings(category=ConvergenceWarning)    \n",
    "# def NMF_with_flat_factor(X,\n",
    "#                          n_components,\n",
    "#                          max_iter=10000,\n",
    "#                          tol = 1e-10,\n",
    "#                          return_error = False,\n",
    "#                          beta_loss = 'kullback-leibler',\n",
    "#                          solver='mu',\n",
    "#                          alpha=0.0,\n",
    "#                          l1_ratio=0.0,\n",
    "#                          regularization=None,):\n",
    "#     n,p = X.shape\n",
    "    \n",
    "#     nmf = NMF(n_components=3,init='custom',max_iter = 1,tol=1e-10,beta_loss = beta_loss, solver=solver)\n",
    "    \n",
    "#     H_init = np.abs(np.random.normal(0,1,(n_components,p)))\n",
    "#     H_init[0] = np.ones(p)/(p**(1/2))\n",
    "#     W_init = np.abs(np.random.normal(0,1,(n, n_components)))\n",
    "    \n",
    "#     W = nmf.fit_transform(X,H=H_init,W=W_init)\n",
    "#     H = nmf.components_\n",
    "    \n",
    "#     last_error = 10e10\n",
    "#     if return_error:\n",
    "#         errors = []\n",
    "#     for i in range(max_iter-1):\n",
    "#         W,H = compute_NMF_step(X = X,\n",
    "#                                W = W,\n",
    "#                                H = H,\n",
    "#                                tol = 1e-10,\n",
    "#                                beta_loss = beta_loss,\n",
    "#                                solver = solver)\n",
    "        \n",
    "#         mse = np.mean((X - W@H)**2)\n",
    "#         errors.append(mse)\n",
    "#         if (last_error - mse) < tol:\n",
    "#             break\n",
    "#         else:\n",
    "#             last_error = mse\n",
    "        \n",
    "#     nmf.fit(X,H=H,W=W)\n",
    "#     return nmf,errors"
   ]
  },
  {
   "cell_type": "code",
   "execution_count": 9,
   "metadata": {},
   "outputs": [],
   "source": [
    "# NMF(n_components=3,init='random',max_iter = 10000,tol=1e-10,).fit_transform(X)"
   ]
  },
  {
   "cell_type": "code",
   "execution_count": null,
   "metadata": {},
   "outputs": [],
   "source": [
    "from sklearn.base import BaseEstimator\n",
    "class NMF_custom(BaseEstimator):\n",
    "    def __init__(self,\n",
    "                 X=None,\n",
    "                 n_components=3,\n",
    "                 max_iter=10000,\n",
    "                 tol = 1e-10,\n",
    "                 return_error = False,\n",
    "                 beta_loss = 'kullback-leibler',\n",
    "                 solver='mu',\n",
    "                 alpha=0.0,                   \n",
    "                 l1_ratio=0.0,\n",
    "                 regularization='components',\n",
    "                 name = 'Custom NMF implementation with a single flat profile',\n",
    "                 errors = []):\n",
    "        \n",
    "        self.params = {\n",
    "            'n_components' : n_components,\n",
    "            'max_iter' : max_iter,\n",
    "            'tol' : tol,\n",
    "            'beta_loss' : beta_loss,\n",
    "            'solver' : solver,\n",
    "            'alpha' : alpha,\n",
    "            'l1_ratio' : l1_ratio,\n",
    "            'regularization' : regularization,\n",
    "            'name':'Custom NMF implementation with a single flat profile',\n",
    "            \n",
    "        }\n",
    "        self.errors = []\n",
    "            \n",
    "\n",
    "        \n",
    "    @ignore_warnings(category=ConvergenceWarning)    \n",
    "    def compute_NMF_step(self):\n",
    "        self.W, self.H, _ = non_negative_factorization(X = self.X,\n",
    "                                             W = self.W,\n",
    "                                             H = self.H,\n",
    "                                             n_components=self.params['n_components'],\n",
    "                                             init='custom',\n",
    "                                             update_H=True,\n",
    "                                             solver=self.params['solver'],\n",
    "                                             beta_loss=self.params['beta_loss'],\n",
    "                                             tol=self.params['tol'],\n",
    "                                             max_iter=1,\n",
    "                                             alpha=self.params['alpha'],\n",
    "                                             l1_ratio=self.params['l1_ratio'],\n",
    "                                             regularization=self.params['regularization'],\n",
    "                                             random_state=None,\n",
    "                                             verbose=0,\n",
    "                                             shuffle=False)\n",
    "        p = X.shape[1]\n",
    "        self.H[0] = np.ones((1,p))/(p**(1/2))\n",
    "\n",
    "    \n",
    "    def get_params(self,deep=False):\n",
    "        return self.params\n",
    "    \n",
    "    def set_params(self, **parameters):\n",
    "        for parameter, value in parameters.items():\n",
    "            self.params[parameter] = value\n",
    "            \n",
    "        return self\n",
    "    \n",
    "    def fit(self,data,y=None):\n",
    "        \n",
    "        print(self.params)\n",
    "        self.nmf = NMF(n_components=self.params['n_components'],\n",
    "                       init='custom',\n",
    "                       max_iter = 1,\n",
    "                       tol=1e-10,\n",
    "                       beta_loss = self.params['beta_loss'],\n",
    "                       solver = self.params['solver'],\n",
    "                       alpha = self.params['alpha'],\n",
    "                       l1_ratio = self.params['l1_ratio'])\n",
    "            \n",
    "            \n",
    "        self.X = data\n",
    "        self.n,self.p = self.X.shape\n",
    "        \n",
    "        self.H = np.abs(np.random.normal(0,1,(self.params['n_components'],self.p)))\n",
    "        self.H[0] = np.ones(self.p)/(self.p**(1/2))\n",
    "        \n",
    "        self.W = np.abs(np.random.normal(0,1,(self.n, self.params['n_components'])))\n",
    "        \n",
    "        last_error = 10e10\n",
    "        for i in range(self.params['max_iter']-1):\n",
    "            self.compute_NMF_step()\n",
    "#             self.compute_NMF_step(X = self.X,W = self.W,\n",
    "#                                   H = self.H,\n",
    "#                                   tol = 1e-10,\n",
    "#                                   beta_loss = self.params['beta_loss'],\n",
    "#                                   solver = self.params['solver'],\n",
    "#                                   alpha=self.params['alpha'],\n",
    "#                                   l1_ratio=self.params['l1_ratio'])\n",
    "\n",
    "            mse = np.mean((self.X - self.W@self.H)**2)\n",
    "            self.errors.append(mse)\n",
    "            if (last_error - mse) < self.params['tol']:\n",
    "                self.nmf.fit(self.X,H=self.H,W=self.W)\n",
    "                break\n",
    "            else:\n",
    "                last_error = mse\n",
    "                \n",
    "        self.nmf.fit(self.X,H=self.H,W=self.W)\n",
    "        \n",
    "        \n",
    "    def fit_transform(self,data,y=None):\n",
    "        self.fit(data)\n",
    "        return self.transform(data)\n",
    "        \n",
    "    \n",
    "    def transform(self,data):\n",
    "        return self.nmf.inverse_transform(self.nmf.transform(data))\n",
    "        \n",
    "    def predict(self,data):\n",
    "        return self.transform(data)"
   ]
  },
  {
   "cell_type": "code",
   "execution_count": 31,
   "metadata": {},
   "outputs": [
    {
     "name": "stdout",
     "output_type": "stream",
     "text": [
      "{'n_components': 3, 'max_iter': 100, 'tol': 1e-10, 'beta_loss': 'kullback-leibler', 'solver': 'mu', 'alpha': 0.0, 'l1_ratio': 0.0, 'regularization': 'components', 'name': 'Custom NMF implementation with a single flat profile', 'errors': []}\n",
      "(3, 168) (683, 3)\n"
     ]
    },
    {
     "name": "stderr",
     "output_type": "stream",
     "text": [
      "C:\\Users\\Sverrir\\Anaconda3\\lib\\site-packages\\sklearn\\decomposition\\_nmf.py:1077: ConvergenceWarning: Maximum number of iterations 1 reached. Increase it to improve convergence.\n",
      "  \" improve convergence.\" % max_iter, ConvergenceWarning)\n"
     ]
    }
   ],
   "source": [
    "nmf_custom = NMF_custom(max_iter=100)\n",
    "nmf_custom.fit(X)"
   ]
  },
  {
   "cell_type": "code",
   "execution_count": 32,
   "metadata": {},
   "outputs": [
    {
     "data": {
      "text/plain": [
       "[{'parameters': {'n_components': 3,\n",
       "   'max_iter': 100,\n",
       "   'tol': 1e-10,\n",
       "   'beta_loss': 'kullback-leibler',\n",
       "   'solver': 'mu',\n",
       "   'alpha': 0.0,\n",
       "   'l1_ratio': 0.0,\n",
       "   'regularization': ['components'],\n",
       "   'name': 'Custom NMF implementation with a single flat profile',\n",
       "   'errors': []}},\n",
       " {'n_components': 3,\n",
       "  'max_iter': 100,\n",
       "  'tol': 1e-10,\n",
       "  'beta_loss': 'kullback-leibler',\n",
       "  'solver': 'mu',\n",
       "  'alpha': 0.0,\n",
       "  'l1_ratio': 0.0,\n",
       "  'regularization': ['components'],\n",
       "  'name': 'Custom NMF implementation with a single flat profile',\n",
       "  'errors': []},\n",
       " {'n_components': 3,\n",
       "  'max_iter': 100,\n",
       "  'tol': 1e-10,\n",
       "  'beta_loss': 'kullback-leibler',\n",
       "  'solver': 'mu',\n",
       "  'alpha': 0.0,\n",
       "  'l1_ratio': 0.0,\n",
       "  'regularization': 'components',\n",
       "  'name': 'Custom NMF implementation with a single flat profile',\n",
       "  'errors': []}]"
      ]
     },
     "execution_count": 32,
     "metadata": {},
     "output_type": "execute_result"
    }
   ],
   "source": [
    "model_list"
   ]
  },
  {
   "cell_type": "code",
   "execution_count": null,
   "metadata": {},
   "outputs": [],
   "source": [
    "neg_mean_squared_error_scorer(nmf_custom,X,X_re)"
   ]
  },
  {
   "cell_type": "code",
   "execution_count": null,
   "metadata": {},
   "outputs": [],
   "source": [
    "from sklearn.utils.estimator_checks import check_estimator"
   ]
  },
  {
   "cell_type": "code",
   "execution_count": null,
   "metadata": {},
   "outputs": [],
   "source": [
    "check_estimator(NMF_custom)"
   ]
  },
  {
   "cell_type": "code",
   "execution_count": null,
   "metadata": {},
   "outputs": [],
   "source": [
    "nmf,errors = NMF_with_flat_factor(X,\n",
    "                                  3,\n",
    "                                  max_iter=10000,\n",
    "                                  tol = 0,\n",
    "                                  return_error=True,\n",
    "                                  beta_loss = 'frobenius',\n",
    "                                  solver='cd')"
   ]
  },
  {
   "cell_type": "code",
   "execution_count": null,
   "metadata": {},
   "outputs": [],
   "source": [
    "plt.plot(-np.diff(errors))\n",
    "plt.yscale('log')\n",
    "plt.ylim(10e-20,10)"
   ]
  },
  {
   "cell_type": "code",
   "execution_count": null,
   "metadata": {},
   "outputs": [],
   "source": [
    "X_re_min = np.array([predict_one_week(H.T,y).reshape(1,3)@H for y in X]).ravel()"
   ]
  },
  {
   "cell_type": "code",
   "execution_count": null,
   "metadata": {},
   "outputs": [],
   "source": [
    "plt.plot(errors)"
   ]
  },
  {
   "cell_type": "code",
   "execution_count": null,
   "metadata": {},
   "outputs": [],
   "source": [
    "plt.plot(1*(np.diff(errors)>0))"
   ]
  },
  {
   "cell_type": "code",
   "execution_count": null,
   "metadata": {},
   "outputs": [],
   "source": [
    "W = nmf.transform(X)\n",
    "H = nmf.components_\n",
    "X_re = W@H"
   ]
  },
  {
   "cell_type": "code",
   "execution_count": null,
   "metadata": {},
   "outputs": [],
   "source": [
    "MSE_re = np.mean((X.ravel() - X_re.ravel())**2)\n",
    "MSE_re_inv = np.mean((X.ravel() - X_inv.ravel())**2)\n",
    "MSE_re_min = np.mean((X.ravel() - X_re_min.ravel())**2)"
   ]
  },
  {
   "cell_type": "code",
   "execution_count": null,
   "metadata": {},
   "outputs": [],
   "source": [
    "plt.figure(figsize=(16,5))\n",
    "plt.plot(X.ravel(),alpha=0.5)\n",
    "plt.plot(X_re.ravel(),alpha=.5)\n",
    "plt.plot(X_inv.ravel(),alpha=.5)\n",
    "plt.plot(X_re_min.ravel(),alpha=.5)\n",
    "plt.legend(['original','WH','inv','LstSq'])"
   ]
  },
  {
   "cell_type": "code",
   "execution_count": null,
   "metadata": {},
   "outputs": [],
   "source": [
    "print(MSE_re)\n",
    "print(MSE_re_inv)\n",
    "print(MSE_re_min)"
   ]
  },
  {
   "cell_type": "code",
   "execution_count": null,
   "metadata": {},
   "outputs": [],
   "source": [
    "print(MSE_re)\n",
    "print(MSE_re_inv)\n",
    "print(MSE_re_min)"
   ]
  },
  {
   "cell_type": "code",
   "execution_count": null,
   "metadata": {},
   "outputs": [],
   "source": [
    "plt.plot(X.ravel(),alpha=0.5)\n",
    "plt.plot(X_re.ravel(),alpha=0.5)"
   ]
  },
  {
   "cell_type": "code",
   "execution_count": 34,
   "metadata": {},
   "outputs": [],
   "source": [
    "from sklearn.model_selection import TimeSeriesSplit,GridSearchCV\n",
    "from sklearn.metrics import make_scorer,mean_squared_error\n",
    "neg_mean_squared_error_scorer = make_scorer(mean_squared_error,greater_is_better=False)\n"
   ]
  },
  {
   "cell_type": "code",
   "execution_count": 35,
   "metadata": {},
   "outputs": [
    {
     "name": "stdout",
     "output_type": "stream",
     "text": [
      "{'n_components': 3, 'max_iter': 100, 'tol': 1e-10, 'beta_loss': 'kullback-leibler', 'solver': 'mu', 'alpha': 0.0, 'l1_ratio': 0.0, 'regularization': 'components', 'name': 'Custom NMF implementation with a single flat profile', 'errors': []}\n",
      "(3, 168) (683, 3)\n"
     ]
    },
    {
     "name": "stderr",
     "output_type": "stream",
     "text": [
      "C:\\Users\\Sverrir\\Anaconda3\\lib\\site-packages\\sklearn\\decomposition\\_nmf.py:1077: ConvergenceWarning: Maximum number of iterations 1 reached. Increase it to improve convergence.\n",
      "  \" improve convergence.\" % max_iter, ConvergenceWarning)\n"
     ]
    },
    {
     "ename": "NameError",
     "evalue": "name 'X_re' is not defined",
     "output_type": "error",
     "traceback": [
      "\u001b[1;31m---------------------------------------------------------------------------\u001b[0m",
      "\u001b[1;31mNameError\u001b[0m                                 Traceback (most recent call last)",
      "\u001b[1;32m<ipython-input-35-327250eb47a6>\u001b[0m in \u001b[0;36m<module>\u001b[1;34m\u001b[0m\n\u001b[0;32m      1\u001b[0m \u001b[0mnmf_tmp\u001b[0m \u001b[1;33m=\u001b[0m \u001b[0mNMF_custom\u001b[0m\u001b[1;33m(\u001b[0m\u001b[1;32mNone\u001b[0m\u001b[1;33m,\u001b[0m\u001b[1;36m3\u001b[0m\u001b[1;33m,\u001b[0m\u001b[1;36m100\u001b[0m\u001b[1;33m,\u001b[0m\u001b[1;36m1e-10\u001b[0m\u001b[1;33m,\u001b[0m\u001b[1;32mFalse\u001b[0m\u001b[1;33m,\u001b[0m\u001b[1;34m'kullback-leibler'\u001b[0m\u001b[1;33m,\u001b[0m\u001b[1;34m'mu'\u001b[0m\u001b[1;33m,\u001b[0m\u001b[1;36m0.0\u001b[0m\u001b[1;33m,\u001b[0m\u001b[1;36m0.0\u001b[0m\u001b[1;33m)\u001b[0m\u001b[1;33m\u001b[0m\u001b[1;33m\u001b[0m\u001b[0m\n\u001b[0;32m      2\u001b[0m \u001b[0mnmf_tmp\u001b[0m\u001b[1;33m.\u001b[0m\u001b[0mfit\u001b[0m\u001b[1;33m(\u001b[0m\u001b[0mX\u001b[0m\u001b[1;33m)\u001b[0m\u001b[1;33m\u001b[0m\u001b[1;33m\u001b[0m\u001b[0m\n\u001b[1;32m----> 3\u001b[1;33m \u001b[0mprint\u001b[0m\u001b[1;33m(\u001b[0m\u001b[0mneg_mean_squared_error_scorer\u001b[0m\u001b[1;33m(\u001b[0m\u001b[0mnmf_tmp\u001b[0m\u001b[1;33m,\u001b[0m\u001b[0mX\u001b[0m\u001b[1;33m,\u001b[0m\u001b[0mX_re\u001b[0m\u001b[1;33m)\u001b[0m\u001b[1;33m)\u001b[0m\u001b[1;33m\u001b[0m\u001b[1;33m\u001b[0m\u001b[0m\n\u001b[0m\u001b[0;32m      4\u001b[0m \u001b[1;33m\u001b[0m\u001b[0m\n\u001b[0;32m      5\u001b[0m \u001b[0mnmf_tmp\u001b[0m \u001b[1;33m=\u001b[0m \u001b[0mNMF_custom\u001b[0m\u001b[1;33m(\u001b[0m\u001b[1;32mNone\u001b[0m\u001b[1;33m,\u001b[0m\u001b[1;36m3\u001b[0m\u001b[1;33m,\u001b[0m\u001b[1;36m100\u001b[0m\u001b[1;33m,\u001b[0m\u001b[1;36m1e-10\u001b[0m\u001b[1;33m,\u001b[0m\u001b[1;32mFalse\u001b[0m\u001b[1;33m,\u001b[0m\u001b[1;34m'kullback-leibler'\u001b[0m\u001b[1;33m,\u001b[0m\u001b[1;34m'mu'\u001b[0m\u001b[1;33m,\u001b[0m\u001b[1;36m0.5\u001b[0m\u001b[1;33m,\u001b[0m\u001b[1;36m100\u001b[0m\u001b[1;33m)\u001b[0m\u001b[1;33m\u001b[0m\u001b[1;33m\u001b[0m\u001b[0m\n",
      "\u001b[1;31mNameError\u001b[0m: name 'X_re' is not defined"
     ]
    }
   ],
   "source": [
    "nmf_tmp = NMF_custom(None,3,100,1e-10,False,'kullback-leibler','mu',0.0,0.0)\n",
    "nmf_tmp.fit(X)\n",
    "print(neg_mean_squared_error_scorer(nmf_tmp,X,X_re))\n",
    "\n",
    "nmf_tmp = NMF_custom(None,3,100,1e-10,False,'kullback-leibler','mu',0.5,100)\n",
    "nmf_tmp.fit(X)\n",
    "print(neg_mean_squared_error_scorer(nmf_tmp,X,X_re))"
   ]
  },
  {
   "cell_type": "code",
   "execution_count": null,
   "metadata": {},
   "outputs": [],
   "source": []
  },
  {
   "cell_type": "code",
   "execution_count": 163,
   "metadata": {},
   "outputs": [],
   "source": [
    "n,p = X.shape\n",
    "n_train = n//2\n",
    "X_train,X_test = X[:n_train],X[n_train:]\n",
    "\n",
    "n_components = np.arange(3,10,1)\n",
    "alpha = np.linspace(0,20,5)\n",
    "l1_ratio = np.linspace(0,1,5)\n",
    "regularization = ['both', 'components', 'transformation' ]\n",
    "\n",
    "param_grid = {\n",
    "     'n_components':n_components,\n",
    "     'alpha':alpha,\n",
    "     'l1_ratio':l1_ratio,\n",
    "     'regularization':regularization\n",
    "}\n",
    "\n",
    "splits = TimeSeriesSplit(max_train_size=None, n_splits=3)"
   ]
  },
  {
   "cell_type": "code",
   "execution_count": 164,
   "metadata": {},
   "outputs": [],
   "source": [
    "def save_results():\n",
    "    pass"
   ]
  },
  {
   "cell_type": "code",
   "execution_count": 108,
   "metadata": {},
   "outputs": [
    {
     "data": {
      "text/plain": [
       "{'n_components': array([ 2,  5,  8, 11, 14]),\n",
       " 'alpha': array([1.00000000e-03, 3.16227766e-02, 1.00000000e+00, 3.16227766e+01,\n",
       "        1.00000000e+03]),\n",
       " 'l1_ratio': array([1.00000000e-10, 3.16227766e-08, 1.00000000e-05, 3.16227766e-03,\n",
       "        1.00000000e+00]),\n",
       " 'regularization': ['both']}"
      ]
     },
     "execution_count": 108,
     "metadata": {},
     "output_type": "execute_result"
    }
   ],
   "source": [
    "param_grid"
   ]
  },
  {
   "cell_type": "code",
   "execution_count": 115,
   "metadata": {},
   "outputs": [],
   "source": [
    "nmf_custom = NMF_custom(max_iter=5000)\n",
    "\n",
    "search = GridSearchCV(nmf_custom,\n",
    "                      param_grid,\n",
    "                      scoring=neg_mean_squared_error_scorer,\n",
    "                      n_jobs=8,\n",
    "                      iid='deprecated',\n",
    "                      refit=True,\n",
    "                      cv=splits, \n",
    "                      verbose=2,\n",
    "                      pre_dispatch='2*n_jobs',\n",
    "                      error_score='raise',\n",
    "                      return_train_score=True)"
   ]
  },
  {
   "cell_type": "code",
   "execution_count": 169,
   "metadata": {},
   "outputs": [
    {
     "ename": "TypeError",
     "evalue": "Object of type ndarray is not JSON serializable",
     "output_type": "error",
     "traceback": [
      "\u001b[1;31m---------------------------------------------------------------------------\u001b[0m",
      "\u001b[1;31mTypeError\u001b[0m                                 Traceback (most recent call last)",
      "\u001b[1;32m<ipython-input-169-d42d2a7e58ac>\u001b[0m in \u001b[0;36m<module>\u001b[1;34m\u001b[0m\n\u001b[0;32m      1\u001b[0m \u001b[1;32mimport\u001b[0m \u001b[0mjson\u001b[0m\u001b[1;33m\u001b[0m\u001b[1;33m\u001b[0m\u001b[0m\n\u001b[1;32m----> 2\u001b[1;33m \u001b[0mjson\u001b[0m\u001b[1;33m.\u001b[0m\u001b[0mdumps\u001b[0m\u001b[1;33m(\u001b[0m\u001b[0msearch\u001b[0m\u001b[1;33m.\u001b[0m\u001b[0mcv_results_\u001b[0m\u001b[1;33m)\u001b[0m\u001b[1;33m\u001b[0m\u001b[1;33m\u001b[0m\u001b[0m\n\u001b[0m",
      "\u001b[1;32m~\\Anaconda3\\lib\\json\\__init__.py\u001b[0m in \u001b[0;36mdumps\u001b[1;34m(obj, skipkeys, ensure_ascii, check_circular, allow_nan, cls, indent, separators, default, sort_keys, **kw)\u001b[0m\n\u001b[0;32m    229\u001b[0m         \u001b[0mcls\u001b[0m \u001b[1;32mis\u001b[0m \u001b[1;32mNone\u001b[0m \u001b[1;32mand\u001b[0m \u001b[0mindent\u001b[0m \u001b[1;32mis\u001b[0m \u001b[1;32mNone\u001b[0m \u001b[1;32mand\u001b[0m \u001b[0mseparators\u001b[0m \u001b[1;32mis\u001b[0m \u001b[1;32mNone\u001b[0m \u001b[1;32mand\u001b[0m\u001b[1;33m\u001b[0m\u001b[1;33m\u001b[0m\u001b[0m\n\u001b[0;32m    230\u001b[0m         default is None and not sort_keys and not kw):\n\u001b[1;32m--> 231\u001b[1;33m         \u001b[1;32mreturn\u001b[0m \u001b[0m_default_encoder\u001b[0m\u001b[1;33m.\u001b[0m\u001b[0mencode\u001b[0m\u001b[1;33m(\u001b[0m\u001b[0mobj\u001b[0m\u001b[1;33m)\u001b[0m\u001b[1;33m\u001b[0m\u001b[1;33m\u001b[0m\u001b[0m\n\u001b[0m\u001b[0;32m    232\u001b[0m     \u001b[1;32mif\u001b[0m \u001b[0mcls\u001b[0m \u001b[1;32mis\u001b[0m \u001b[1;32mNone\u001b[0m\u001b[1;33m:\u001b[0m\u001b[1;33m\u001b[0m\u001b[1;33m\u001b[0m\u001b[0m\n\u001b[0;32m    233\u001b[0m         \u001b[0mcls\u001b[0m \u001b[1;33m=\u001b[0m \u001b[0mJSONEncoder\u001b[0m\u001b[1;33m\u001b[0m\u001b[1;33m\u001b[0m\u001b[0m\n",
      "\u001b[1;32m~\\Anaconda3\\lib\\json\\encoder.py\u001b[0m in \u001b[0;36mencode\u001b[1;34m(self, o)\u001b[0m\n\u001b[0;32m    197\u001b[0m         \u001b[1;31m# exceptions aren't as detailed.  The list call should be roughly\u001b[0m\u001b[1;33m\u001b[0m\u001b[1;33m\u001b[0m\u001b[1;33m\u001b[0m\u001b[0m\n\u001b[0;32m    198\u001b[0m         \u001b[1;31m# equivalent to the PySequence_Fast that ''.join() would do.\u001b[0m\u001b[1;33m\u001b[0m\u001b[1;33m\u001b[0m\u001b[1;33m\u001b[0m\u001b[0m\n\u001b[1;32m--> 199\u001b[1;33m         \u001b[0mchunks\u001b[0m \u001b[1;33m=\u001b[0m \u001b[0mself\u001b[0m\u001b[1;33m.\u001b[0m\u001b[0miterencode\u001b[0m\u001b[1;33m(\u001b[0m\u001b[0mo\u001b[0m\u001b[1;33m,\u001b[0m \u001b[0m_one_shot\u001b[0m\u001b[1;33m=\u001b[0m\u001b[1;32mTrue\u001b[0m\u001b[1;33m)\u001b[0m\u001b[1;33m\u001b[0m\u001b[1;33m\u001b[0m\u001b[0m\n\u001b[0m\u001b[0;32m    200\u001b[0m         \u001b[1;32mif\u001b[0m \u001b[1;32mnot\u001b[0m \u001b[0misinstance\u001b[0m\u001b[1;33m(\u001b[0m\u001b[0mchunks\u001b[0m\u001b[1;33m,\u001b[0m \u001b[1;33m(\u001b[0m\u001b[0mlist\u001b[0m\u001b[1;33m,\u001b[0m \u001b[0mtuple\u001b[0m\u001b[1;33m)\u001b[0m\u001b[1;33m)\u001b[0m\u001b[1;33m:\u001b[0m\u001b[1;33m\u001b[0m\u001b[1;33m\u001b[0m\u001b[0m\n\u001b[0;32m    201\u001b[0m             \u001b[0mchunks\u001b[0m \u001b[1;33m=\u001b[0m \u001b[0mlist\u001b[0m\u001b[1;33m(\u001b[0m\u001b[0mchunks\u001b[0m\u001b[1;33m)\u001b[0m\u001b[1;33m\u001b[0m\u001b[1;33m\u001b[0m\u001b[0m\n",
      "\u001b[1;32m~\\Anaconda3\\lib\\json\\encoder.py\u001b[0m in \u001b[0;36miterencode\u001b[1;34m(self, o, _one_shot)\u001b[0m\n\u001b[0;32m    255\u001b[0m                 \u001b[0mself\u001b[0m\u001b[1;33m.\u001b[0m\u001b[0mkey_separator\u001b[0m\u001b[1;33m,\u001b[0m \u001b[0mself\u001b[0m\u001b[1;33m.\u001b[0m\u001b[0mitem_separator\u001b[0m\u001b[1;33m,\u001b[0m \u001b[0mself\u001b[0m\u001b[1;33m.\u001b[0m\u001b[0msort_keys\u001b[0m\u001b[1;33m,\u001b[0m\u001b[1;33m\u001b[0m\u001b[1;33m\u001b[0m\u001b[0m\n\u001b[0;32m    256\u001b[0m                 self.skipkeys, _one_shot)\n\u001b[1;32m--> 257\u001b[1;33m         \u001b[1;32mreturn\u001b[0m \u001b[0m_iterencode\u001b[0m\u001b[1;33m(\u001b[0m\u001b[0mo\u001b[0m\u001b[1;33m,\u001b[0m \u001b[1;36m0\u001b[0m\u001b[1;33m)\u001b[0m\u001b[1;33m\u001b[0m\u001b[1;33m\u001b[0m\u001b[0m\n\u001b[0m\u001b[0;32m    258\u001b[0m \u001b[1;33m\u001b[0m\u001b[0m\n\u001b[0;32m    259\u001b[0m def _make_iterencode(markers, _default, _encoder, _indent, _floatstr,\n",
      "\u001b[1;32m~\\Anaconda3\\lib\\json\\encoder.py\u001b[0m in \u001b[0;36mdefault\u001b[1;34m(self, o)\u001b[0m\n\u001b[0;32m    177\u001b[0m \u001b[1;33m\u001b[0m\u001b[0m\n\u001b[0;32m    178\u001b[0m         \"\"\"\n\u001b[1;32m--> 179\u001b[1;33m         raise TypeError(f'Object of type {o.__class__.__name__} '\n\u001b[0m\u001b[0;32m    180\u001b[0m                         f'is not JSON serializable')\n\u001b[0;32m    181\u001b[0m \u001b[1;33m\u001b[0m\u001b[0m\n",
      "\u001b[1;31mTypeError\u001b[0m: Object of type ndarray is not JSON serializable"
     ]
    }
   ],
   "source": [
    "import json\n",
    "\n",
    "\n",
    "json.dumps(search.cv_results_)"
   ]
  },
  {
   "cell_type": "code",
   "execution_count": 187,
   "metadata": {},
   "outputs": [],
   "source": [
    "import datetime as dt\n",
    "fields = ['split0_train_score', 'split1_train_score', 'split2_train_score', 'mean_train_score']\n",
    "data = np.array([search.cv_results_[t] for t in fields])\n",
    "result_df = pd.DataFrame(data.T,index=search.cv_results_['params'],columns=fields)\n",
    "time_now = dt.datetime.now()\n",
    "date_string = time_now.strftime(format='%Y_%m_%d_%H%M%S')\n",
    "result_df.to_csv(f'./hyperparameter tuning results/{date_string}.csv')"
   ]
  },
  {
   "cell_type": "code",
   "execution_count": 186,
   "metadata": {},
   "outputs": [
    {
     "data": {
      "text/plain": [
       "'2020_10_08_091643'"
      ]
     },
     "execution_count": 186,
     "metadata": {},
     "output_type": "execute_result"
    }
   ],
   "source": []
  },
  {
   "cell_type": "code",
   "execution_count": 170,
   "metadata": {},
   "outputs": [
    {
     "data": {
      "text/plain": [
       "dict_keys(['mean_fit_time', 'std_fit_time', 'mean_score_time', 'std_score_time', 'param_alpha', 'param_l1_ratio', 'param_n_components', 'param_regularization', 'params', 'split0_test_score', 'split1_test_score', 'split2_test_score', 'mean_test_score', 'std_test_score', 'rank_test_score', 'split0_train_score', 'split1_train_score', 'split2_train_score', 'mean_train_score', 'std_train_score'])"
      ]
     },
     "execution_count": 170,
     "metadata": {},
     "output_type": "execute_result"
    }
   ],
   "source": [
    "search.cv_results_.keys()\n"
   ]
  },
  {
   "cell_type": "code",
   "execution_count": 116,
   "metadata": {},
   "outputs": [
    {
     "name": "stdout",
     "output_type": "stream",
     "text": [
      "Fitting 3 folds for each of 125 candidates, totalling 375 fits\n"
     ]
    },
    {
     "name": "stderr",
     "output_type": "stream",
     "text": [
      "[Parallel(n_jobs=8)]: Using backend LokyBackend with 8 concurrent workers.\n",
      "[Parallel(n_jobs=8)]: Done  25 tasks      | elapsed:  2.7min\n",
      "[Parallel(n_jobs=8)]: Done 146 tasks      | elapsed: 11.6min\n",
      "[Parallel(n_jobs=8)]: Done 349 tasks      | elapsed: 17.5min\n",
      "[Parallel(n_jobs=8)]: Done 375 out of 375 | elapsed: 17.8min finished\n"
     ]
    },
    {
     "data": {
      "text/plain": [
       "GridSearchCV(cv=TimeSeriesSplit(max_train_size=None, n_splits=3),\n",
       "             error_score='raise', estimator=NMF_custom(max_iter=5000), n_jobs=8,\n",
       "             param_grid={'alpha': array([1.00000000e-03, 3.16227766e-02, 1.00000000e+00, 3.16227766e+01,\n",
       "       1.00000000e+03]),\n",
       "                         'l1_ratio': array([1.00000000e-10, 3.16227766e-08, 1.00000000e-05, 3.16227766e-03,\n",
       "       1.00000000e+00]),\n",
       "                         'n_components': array([ 2,  5,  8, 11, 14]),\n",
       "                         'regularization': ['both']},\n",
       "             refit=False, return_train_score=True,\n",
       "             scoring=make_scorer(mean_squared_error, greater_is_better=False),\n",
       "             verbose=2)"
      ]
     },
     "execution_count": 116,
     "metadata": {},
     "output_type": "execute_result"
    }
   ],
   "source": [
    "search.fit(X=X,y=X,)"
   ]
  },
  {
   "cell_type": "code",
   "execution_count": 117,
   "metadata": {},
   "outputs": [],
   "source": [
    "# search.fit(X=X,y=X,)"
   ]
  },
  {
   "cell_type": "code",
   "execution_count": 118,
   "metadata": {},
   "outputs": [],
   "source": [
    "# search.fit(X=X,y=X,)"
   ]
  },
  {
   "cell_type": "code",
   "execution_count": 119,
   "metadata": {
    "scrolled": true
   },
   "outputs": [],
   "source": [
    "performance = search.cv_results_['mean_test_score']"
   ]
  },
  {
   "cell_type": "code",
   "execution_count": 126,
   "metadata": {},
   "outputs": [
    {
     "data": {
      "text/plain": [
       "-0.13925192006527723"
      ]
     },
     "execution_count": 126,
     "metadata": {},
     "output_type": "execute_result"
    }
   ],
   "source": [
    "np.max(performance)"
   ]
  },
  {
   "cell_type": "code",
   "execution_count": 127,
   "metadata": {},
   "outputs": [
    {
     "data": {
      "text/plain": [
       "{'alpha': 1.0, 'l1_ratio': 1.0, 'n_components': 5, 'regularization': 'both'}"
      ]
     },
     "execution_count": 127,
     "metadata": {},
     "output_type": "execute_result"
    }
   ],
   "source": [
    "search.best_params_"
   ]
  },
  {
   "cell_type": "code",
   "execution_count": null,
   "metadata": {},
   "outputs": [],
   "source": [
    "search.b"
   ]
  },
  {
   "cell_type": "code",
   "execution_count": 122,
   "metadata": {},
   "outputs": [],
   "source": [
    "performance_tensor = performance.reshape(tuple(len(tmp) for tmp in param_grid.values()))"
   ]
  },
  {
   "cell_type": "code",
   "execution_count": 123,
   "metadata": {},
   "outputs": [
    {
     "data": {
      "text/plain": [
       "[2, 3]"
      ]
     },
     "execution_count": 123,
     "metadata": {},
     "output_type": "execute_result"
    }
   ],
   "source": [
    "tmp = [1,2,3]\n",
    "tmp.remove(1)\n",
    "tmp"
   ]
  },
  {
   "cell_type": "code",
   "execution_count": 124,
   "metadata": {
    "scrolled": false
   },
   "outputs": [
    {
     "data": {
      "image/png": "[encoded data removed]",
      "text/plain": [
       "<Figure size 432x288 with 1 Axes>"
      ]
     },
     "metadata": {
      "needs_background": "light"
     },
     "output_type": "display_data"
    },
    {
     "data": {
      "image/png": "[encoded data removed]",
      "text/plain": [
       "<Figure size 432x288 with 1 Axes>"
      ]
     },
     "metadata": {
      "needs_background": "light"
     },
     "output_type": "display_data"
    },
    {
     "data": {
      "image/png": "[encoded data removed]",
      "text/plain": [
       "<Figure size 432x288 with 1 Axes>"
      ]
     },
     "metadata": {
      "needs_background": "light"
     },
     "output_type": "display_data"
    },
    {
     "data": {
      "image/png": "[encoded data removed]",
      "text/plain": [
       "<Figure size 432x288 with 1 Axes>"
      ]
     },
     "metadata": {
      "needs_background": "light"
     },
     "output_type": "display_data"
    }
   ],
   "source": [
    "for i,param in enumerate(param_grid.keys()):\n",
    "    axes = list(np.arange(4))\n",
    "    axes.remove(i)\n",
    "    plt.scatter(list(param_grid[param]),np.mean(performance_tensor,axis=tuple(axes)))\n",
    "    plt.xlabel(param)\n",
    "    plt.show()"
   ]
  },
  {
   "cell_type": "code",
   "execution_count": 128,
   "metadata": {},
   "outputs": [
    {
     "data": {
      "text/plain": [
       "{'alpha': 1.0, 'l1_ratio': 1.0, 'n_components': 5, 'regularization': 'both'}"
      ]
     },
     "execution_count": 128,
     "metadata": {},
     "output_type": "execute_result"
    }
   ],
   "source": [
    "search.best_params_"
   ]
  },
  {
   "cell_type": "code",
   "execution_count": 130,
   "metadata": {},
   "outputs": [
    {
     "name": "stdout",
     "output_type": "stream",
     "text": [
      "{'n_components': 5, 'max_iter': 10000, 'tol': 1e-10, 'beta_loss': 'kullback-leibler', 'solver': 'mu', 'alpha': 1, 'l1_ratio': 1, 'regularization': 'components', 'name': 'Custom NMF implementation with a single flat profile'}\n",
      "(5, 168) (683, 5)\n"
     ]
    },
    {
     "name": "stderr",
     "output_type": "stream",
     "text": [
      "C:\\Users\\Sverrir\\Anaconda3\\lib\\site-packages\\sklearn\\decomposition\\_nmf.py:1077: ConvergenceWarning: Maximum number of iterations 1 reached. Increase it to improve convergence.\n",
      "  \" improve convergence.\" % max_iter, ConvergenceWarning)\n",
      "C:\\Users\\Sverrir\\Anaconda3\\lib\\site-packages\\sklearn\\decomposition\\_nmf.py:1077: ConvergenceWarning: Maximum number of iterations 1 reached. Increase it to improve convergence.\n",
      "  \" improve convergence.\" % max_iter, ConvergenceWarning)\n"
     ]
    }
   ],
   "source": [
    "nmf_custom = NMF_custom(X=None,\n",
    "                        n_components=5,\n",
    "                        max_iter=10000,\n",
    "                        tol = 1e-10,\n",
    "                        return_error = True,\n",
    "                        beta_loss = 'kullback-leibler',\n",
    "                        solver='mu',\n",
    "                        alpha=1,                   \n",
    "                        l1_ratio=1,\n",
    "                        regularization='components',\n",
    "                        name = 'Custom NMF implementation with a single flat profile',\n",
    "                        errors = []\n",
    "                       )\n",
    "nmf_custom.fit(X)"
   ]
  },
  {
   "cell_type": "code",
   "execution_count": 136,
   "metadata": {},
   "outputs": [],
   "source": [
    "compoenents = nmf_custom.nmf.components_\n",
    "compoenents = nmf_custom.nmf.components_"
   ]
  },
  {
   "cell_type": "code",
   "execution_count": 139,
   "metadata": {},
   "outputs": [],
   "source": [
    "X_re_min = np.array([predict_one_week(compoenents.T,y).reshape(1,-1)@compoenents for y in X]).ravel()"
   ]
  },
  {
   "cell_type": "code",
   "execution_count": 143,
   "metadata": {},
   "outputs": [
    {
     "data": {
      "text/plain": [
       "[<matplotlib.lines.Line2D at 0x183811a9710>]"
      ]
     },
     "execution_count": 143,
     "metadata": {},
     "output_type": "execute_result"
    },
    {
     "data": {
      "image/png": "[encoded data removed]",
      "text/plain": [
       "<Figure size 432x288 with 1 Axes>"
      ]
     },
     "metadata": {
      "needs_background": "light"
     },
     "output_type": "display_data"
    }
   ],
   "source": [
    "plt.plot(X_re_min,alpha=0.5)\n",
    "plt.plot(X.ravel(),alpha=0.5)"
   ]
  },
  {
   "cell_type": "code",
   "execution_count": 155,
   "metadata": {},
   "outputs": [
    {
     "data": {
      "image/png": "[encoded data removed]",
      "text/plain": [
       "<Figure size 432x288 with 1 Axes>"
      ]
     },
     "metadata": {
      "needs_background": "light"
     },
     "output_type": "display_data"
    }
   ],
   "source": [
    "residuals = X_re_min-X.ravel()\n",
    "plt.hist(residuals,bins=np.arange(-5,5,0.1))\n",
    "plt.show()"
   ]
  },
  {
   "cell_type": "code",
   "execution_count": 154,
   "metadata": {},
   "outputs": [],
   "source": [
    "from scipy.stats import kurtosis"
   ]
  },
  {
   "cell_type": "code",
   "execution_count": 162,
   "metadata": {},
   "outputs": [
    {
     "name": "stdout",
     "output_type": "stream",
     "text": [
      "mse: 0.059792586911277715\n",
      "mae: 0.16453969936054325\n"
     ]
    }
   ],
   "source": [
    "print('mse:',np.mean(residuals**2))\n",
    "print('mae:',np.mean(np.abs(residuals)))"
   ]
  },
  {
   "cell_type": "code",
   "execution_count": 144,
   "metadata": {},
   "outputs": [
    {
     "data": {
      "text/plain": [
       "[<matplotlib.lines.Line2D at 0x183811789e8>,\n",
       " <matplotlib.lines.Line2D at 0x183811783c8>,\n",
       " <matplotlib.lines.Line2D at 0x18381178358>,\n",
       " <matplotlib.lines.Line2D at 0x18381178f98>,\n",
       " <matplotlib.lines.Line2D at 0x18381178f28>]"
      ]
     },
     "execution_count": 144,
     "metadata": {},
     "output_type": "execute_result"
    },
    {
     "data": {
      "image/png": "[encoded data removed]",
      "text/plain": [
       "<Figure size 432x288 with 1 Axes>"
      ]
     },
     "metadata": {
      "needs_background": "light"
     },
     "output_type": "display_data"
    }
   ],
   "source": [
    "plt.plot(compoenents.T)"
   ]
  },
  {
   "cell_type": "code",
   "execution_count": 149,
   "metadata": {},
   "outputs": [
    {
     "data": {
      "image/png": "[encoded data removed]",
      "text/plain": [
       "<Figure size 432x288 with 1 Axes>"
      ]
     },
     "metadata": {
      "needs_background": "light"
     },
     "output_type": "display_data"
    }
   ],
   "source": [
    "\n",
    "plt.plot(- np.diff(nmf_custom.errors))\n",
    "plt.yscale('log')"
   ]
  },
  {
   "cell_type": "code",
   "execution_count": null,
   "metadata": {},
   "outputs": [],
   "source": [
    "# nmf,errors = NMF_with_flat_factor(X,\n",
    "#                                   3,\n",
    "#                                   max_iter=10000,\n",
    "#                                   tol = 0,\n",
    "#                                   return_error=True,\n",
    "#                                   beta_loss = 'frobenius',\n",
    "#                                   solver='cd')"
   ]
  },
  {
   "cell_type": "code",
   "execution_count": null,
   "metadata": {},
   "outputs": [],
   "source": []
  }
 ],
 "metadata": {
  "kernelspec": {
   "display_name": "Python 3",
   "language": "python",
   "name": "python3"
  },
  "language_info": {
   "codemirror_mode": {
    "name": "ipython",
    "version": 3
   },
   "file_extension": ".py",
   "mimetype": "text/x-python",
   "name": "python",
   "nbconvert_exporter": "python",
   "pygments_lexer": "ipython3",
   "version": "3.7.1"
  }
 },
 "nbformat": 4,
 "nbformat_minor": 2
}
